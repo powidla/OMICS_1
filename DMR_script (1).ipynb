{
  "nbformat": 4,
  "nbformat_minor": 0,
  "metadata": {
    "colab": {
      "provenance": []
    },
    "kernelspec": {
      "name": "python3",
      "display_name": "Python 3"
    },
    "language_info": {
      "name": "python"
    }
  },
  "cells": [
    {
      "cell_type": "code",
      "execution_count": null,
      "metadata": {
        "id": "9X5EcP2CvggP"
      },
      "outputs": [],
      "source": [
        "tdata <- read.table(\"SRR5836474_1_val_1_bismark_hisat2_pe.bismark.cov.mk\", row.names = 1)\n",
        "\n",
        "vc <- (\"SRR5836474_1_val_1_bismark_hisat2_pe.bismark.cov.mk\")\n",
        "\n",
        "biscuit2methylkit <- function(vcf) {\n",
        "  vc <- vc\n",
        "  tdata <- read.table(vc)\n",
        "  base <- tdata$V2\n",
        "  coverage <- tdata$V3\n",
        "  freqC <- tdata$V5\n",
        "  freqT <- tdata$V6\n",
        "  mk <- data.frame(  base,  coverage, freqC, freqT )\n",
        "  mk\n",
        "  mkname <- paste(vc,\".txt\",sep=\"\")\n",
        "  write.table(mk,file=mkname,quote=FALSE,sep=\"\\t\",row.names = FALSE)\n",
        "}\n",
        "biscuit2methylkit(vcf)"
      ]
    },
    {
      "cell_type": "code",
      "source": [
        "library(DSS)\n",
        "require(bsseq)\n",
        "path = file.path(system.file(package=\"DSS\"), \"extdata\")\n",
        "dat1.2 = read.table(file.path(path, \"SRR5836474_1_val_1_bismark_hisat2_pe.bismark.cov.mk.txt\"), header=TRUE)\n",
        "dat2.2 = read.table(file.path(path, \"SRR3824222_1_val_1_bismark_hisat2_pe.bismark.cov.mk.txt\"), header=TRUE)\n",
        "BSobj = makeBSseqData( list(dat1.2, dat2.2),\n",
        "                       c(\"SRR5836474\", \"SRR3824222\") )[1:1000,]\n",
        "BSobj\n",
        "dmlTest = DMLtest(BSobj, group1 = c(\"SRR5836474\"), group2 = c(\"SRR3824222\"), smoothing = TRUE)\n",
        "dmlTest = DMLtest(BSobj, group1=c(\"C1\", \"C2\"), group2=c(\"N1\", \"N2\"))\n",
        "\n",
        "dmlTest.sm = DMLtest(BSobj, group1=c(\"SRR5836474\"), group2=c(\"SRR3824222\"), \n",
        "                     smoothing=TRUE)\n",
        "dmlTest.sm = DMLtest(BSobj, group1=c(\"C1\", \"C2\"), group2=c(\"N1\", \"N2\"), \n",
        "                     smoothing=TRUE)\n",
        "dmls = callDML(dmlTest, p.threshold=0.001)\n",
        "head(dmls)\n",
        "\n",
        "dmls2 = callDML(dmlTest, delta=0.1, p.threshold=0.001)\n",
        "head(dmls2)\n",
        "\n",
        "\n",
        "dmrs = callDMR(dmlTest, p.threshold=0.01)\n",
        "head(dmrs)\n",
        "\n",
        "dmrs2 = callDMR(dmlTest, delta=0.1, p.threshold=0.05)\n",
        "head(dmrs2)\n",
        "\n",
        "showOneDMR(dmrs[1,], BSobj)"
      ],
      "metadata": {
        "id": "VEt73MYpvk5j"
      },
      "execution_count": null,
      "outputs": []
    }
  ]
}