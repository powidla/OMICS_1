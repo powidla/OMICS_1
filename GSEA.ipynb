{
  "nbformat": 4,
  "nbformat_minor": 0,
  "metadata": {
    "colab": {
      "provenance": []
    },
    "kernelspec": {
      "name": "ir",
      "display_name": "R"
    },
    "language_info": {
      "name": "R"
    }
  },
  "cells": [
    {
      "cell_type": "code",
      "execution_count": 101,
      "metadata": {
        "id": "-gJCc5pk8o7-",
        "colab": {
          "base_uri": "https://localhost:8080/"
        },
        "outputId": "de2e471e-79fc-4eba-c25e-99e93a15c310"
      },
      "outputs": [
        {
          "output_type": "stream",
          "name": "stderr",
          "text": [
            "'getOption(\"repos\")' replaces Bioconductor standard repositories, see\n",
            "'help(\"repositories\", package = \"BiocManager\")' for details.\n",
            "Replacement repositories:\n",
            "    CRAN: https://cran.rstudio.com\n",
            "\n",
            "Bioconductor version 3.16 (BiocManager 1.30.20), R 4.2.3 (2023-03-15)\n",
            "\n",
            "Warning message:\n",
            "“package(s) not installed when version(s) same as or greater than current; use\n",
            "  `force = TRUE` to re-install: 'DESeq2'”\n",
            "Old packages: 'bit', 'bslib', 'dbplyr', 'devtools', 'digest', 'gert', 'highr',\n",
            "  'isoband', 'jsonlite', 'modelr', 'pkgload', 'rmarkdown', 'roxygen2',\n",
            "  'stringr', 'tidyverse', 'whisker', 'boot', 'foreign'\n",
            "\n",
            "Installing package into ‘/usr/local/lib/R/site-library’\n",
            "(as ‘lib’ is unspecified)\n",
            "\n",
            "Installing package into ‘/usr/local/lib/R/site-library’\n",
            "(as ‘lib’ is unspecified)\n",
            "\n"
          ]
        }
      ],
      "source": [
        "if (!requireNamespace(\"BiocManager\", quietly = TRUE))\n",
        "install.packages(\"BiocManager\")\n",
        "BiocManager::install(\"DESeq2\")\n",
        "install.packages(\"RColorBrewer\")\n",
        "install.packages(\"gplots\")"
      ]
    },
    {
      "cell_type": "code",
      "source": [
        "BiocManager::install(\"ggplot2\")\n",
        "BiocManager::install(\"gtable\")\n",
        "BiocManager::install(\"biomaRt\")\n",
        "install.packages(\"ggplot2\")\n",
        "install.packages(\"biomaRt\")\n",
        "\n",
        "BiocManager::install(\"biomaRt\")"
      ],
      "metadata": {
        "id": "luZW1KT39roX",
        "colab": {
          "base_uri": "https://localhost:8080/"
        },
        "outputId": "6e77c249-e37e-4926-c538-cac961cea9e5"
      },
      "execution_count": 102,
      "outputs": [
        {
          "output_type": "stream",
          "name": "stderr",
          "text": [
            "'getOption(\"repos\")' replaces Bioconductor standard repositories, see\n",
            "'help(\"repositories\", package = \"BiocManager\")' for details.\n",
            "Replacement repositories:\n",
            "    CRAN: https://cran.rstudio.com\n",
            "\n",
            "Bioconductor version 3.16 (BiocManager 1.30.20), R 4.2.3 (2023-03-15)\n",
            "\n",
            "Warning message:\n",
            "“package(s) not installed when version(s) same as or greater than current; use\n",
            "  `force = TRUE` to re-install: 'ggplot2'”\n",
            "Old packages: 'bit', 'bslib', 'dbplyr', 'devtools', 'digest', 'gert', 'highr',\n",
            "  'isoband', 'jsonlite', 'modelr', 'pkgload', 'rmarkdown', 'roxygen2',\n",
            "  'stringr', 'tidyverse', 'whisker', 'boot', 'foreign'\n",
            "\n",
            "'getOption(\"repos\")' replaces Bioconductor standard repositories, see\n",
            "'help(\"repositories\", package = \"BiocManager\")' for details.\n",
            "Replacement repositories:\n",
            "    CRAN: https://cran.rstudio.com\n",
            "\n",
            "Bioconductor version 3.16 (BiocManager 1.30.20), R 4.2.3 (2023-03-15)\n",
            "\n",
            "Warning message:\n",
            "“package(s) not installed when version(s) same as or greater than current; use\n",
            "  `force = TRUE` to re-install: 'gtable'”\n",
            "Old packages: 'bit', 'bslib', 'dbplyr', 'devtools', 'digest', 'gert', 'highr',\n",
            "  'isoband', 'jsonlite', 'modelr', 'pkgload', 'rmarkdown', 'roxygen2',\n",
            "  'stringr', 'tidyverse', 'whisker', 'boot', 'foreign'\n",
            "\n",
            "'getOption(\"repos\")' replaces Bioconductor standard repositories, see\n",
            "'help(\"repositories\", package = \"BiocManager\")' for details.\n",
            "Replacement repositories:\n",
            "    CRAN: https://cran.rstudio.com\n",
            "\n",
            "Bioconductor version 3.16 (BiocManager 1.30.20), R 4.2.3 (2023-03-15)\n",
            "\n",
            "Warning message:\n",
            "“package(s) not installed when version(s) same as or greater than current; use\n",
            "  `force = TRUE` to re-install: 'biomaRt'”\n",
            "Old packages: 'bit', 'bslib', 'dbplyr', 'devtools', 'digest', 'gert', 'highr',\n",
            "  'isoband', 'jsonlite', 'modelr', 'pkgload', 'rmarkdown', 'roxygen2',\n",
            "  'stringr', 'tidyverse', 'whisker', 'boot', 'foreign'\n",
            "\n",
            "Installing package into ‘/usr/local/lib/R/site-library’\n",
            "(as ‘lib’ is unspecified)\n",
            "\n",
            "Installing package into ‘/usr/local/lib/R/site-library’\n",
            "(as ‘lib’ is unspecified)\n",
            "\n",
            "Warning message:\n",
            "“package ‘biomaRt’ is not available for this version of R\n",
            "\n",
            "A version of this package for your version of R might be available elsewhere,\n",
            "see the ideas at\n",
            "https://cran.r-project.org/doc/manuals/r-patched/R-admin.html#Installing-packages”\n",
            "'getOption(\"repos\")' replaces Bioconductor standard repositories, see\n",
            "'help(\"repositories\", package = \"BiocManager\")' for details.\n",
            "Replacement repositories:\n",
            "    CRAN: https://cran.rstudio.com\n",
            "\n",
            "Bioconductor version 3.16 (BiocManager 1.30.20), R 4.2.3 (2023-03-15)\n",
            "\n",
            "Warning message:\n",
            "“package(s) not installed when version(s) same as or greater than current; use\n",
            "  `force = TRUE` to re-install: 'biomaRt'”\n",
            "Old packages: 'bit', 'bslib', 'dbplyr', 'devtools', 'digest', 'gert', 'highr',\n",
            "  'isoband', 'jsonlite', 'modelr', 'pkgload', 'rmarkdown', 'roxygen2',\n",
            "  'stringr', 'tidyverse', 'whisker', 'boot', 'foreign'\n",
            "\n"
          ]
        }
      ]
    },
    {
      "cell_type": "code",
      "source": [
        "BiocManager::install(\"fgsea\")\n",
        "BiocManager::install(\"org.Mm.eg.db\")"
      ],
      "metadata": {
        "id": "mK1IW-g0CUIK"
      },
      "execution_count": null,
      "outputs": []
    },
    {
      "cell_type": "code",
      "source": [
        "library(DESeq2)\n",
        "library(fgsea)\n",
        "library(org.Mm.eg.db)\n",
        "library(biomaRt)\n",
        "library(ggplot2)\n",
        "library(gtable)"
      ],
      "metadata": {
        "id": "px5ZPWKb9i-s"
      },
      "execution_count": 104,
      "outputs": []
    },
    {
      "cell_type": "code",
      "source": [
        " mart = useMart(host=\"useast.ensembl.org\", \n",
        "                 biomart=\"ENSEMBL_MART_ENSEMBL\", \n",
        "                 dataset=\"mmusculus_gene_ensembl\")"
      ],
      "metadata": {
        "colab": {
          "base_uri": "https://localhost:8080/"
        },
        "id": "I6UvbBGMT2hd",
        "outputId": "91f5a1c8-a109-489a-b26e-f3cacc9cf25d"
      },
      "execution_count": 105,
      "outputs": [
        {
          "output_type": "stream",
          "name": "stderr",
          "text": [
            "Warning message:\n",
            "“Ensembl will soon enforce the use of https.\n",
            "Ensure the 'host' argument includes \"https://\"”\n"
          ]
        }
      ]
    },
    {
      "cell_type": "code",
      "source": [
        "deseq2_results <- read.csv(\"res_deseq (1).csv\")\n",
        "head(deseq2_results)"
      ],
      "metadata": {
        "colab": {
          "base_uri": "https://localhost:8080/",
          "height": 286
        },
        "id": "UgWbow41DQ-8",
        "outputId": "caf46db0-6056-49a3-a3c8-358eaefc5cc1"
      },
      "execution_count": 184,
      "outputs": [
        {
          "output_type": "display_data",
          "data": {
            "text/html": [
              "<table class=\"dataframe\">\n",
              "<caption>A data.frame: 6 × 7</caption>\n",
              "<thead>\n",
              "\t<tr><th></th><th scope=col>X</th><th scope=col>baseMean</th><th scope=col>log2FoldChange</th><th scope=col>lfcSE</th><th scope=col>stat</th><th scope=col>pvalue</th><th scope=col>padj</th></tr>\n",
              "\t<tr><th></th><th scope=col>&lt;chr&gt;</th><th scope=col>&lt;dbl&gt;</th><th scope=col>&lt;dbl&gt;</th><th scope=col>&lt;dbl&gt;</th><th scope=col>&lt;dbl&gt;</th><th scope=col>&lt;dbl&gt;</th><th scope=col>&lt;dbl&gt;</th></tr>\n",
              "</thead>\n",
              "<tbody>\n",
              "\t<tr><th scope=row>1</th><td>ENSMUSG00000000001.5 </td><td>153.6024296</td><td>-0.9748366</td><td>0.1853814</td><td>-5.2585457</td><td>1.451991e-07</td><td>2.237655e-06</td></tr>\n",
              "\t<tr><th scope=row>2</th><td>ENSMUSG00000000003.16</td><td>  0.0000000</td><td>        NA</td><td>       NA</td><td>        NA</td><td>          NA</td><td>          NA</td></tr>\n",
              "\t<tr><th scope=row>3</th><td>ENSMUSG00000000028.16</td><td>139.9527038</td><td>-0.2684466</td><td>0.1858378</td><td>-1.4445212</td><td>1.485924e-01</td><td>3.404956e-01</td></tr>\n",
              "\t<tr><th scope=row>4</th><td>ENSMUSG00000000031.18</td><td>  0.2852441</td><td> 1.6809856</td><td>3.5729057</td><td> 0.4704814</td><td>6.380111e-01</td><td>          NA</td></tr>\n",
              "\t<tr><th scope=row>5</th><td>ENSMUSG00000000037.18</td><td>139.9601444</td><td>-0.4650811</td><td>0.1952566</td><td>-2.3818964</td><td>1.722374e-02</td><td>6.850861e-02</td></tr>\n",
              "\t<tr><th scope=row>6</th><td>ENSMUSG00000000049.12</td><td>  0.0000000</td><td>        NA</td><td>       NA</td><td>        NA</td><td>          NA</td><td>          NA</td></tr>\n",
              "</tbody>\n",
              "</table>\n"
            ],
            "text/markdown": "\nA data.frame: 6 × 7\n\n| <!--/--> | X &lt;chr&gt; | baseMean &lt;dbl&gt; | log2FoldChange &lt;dbl&gt; | lfcSE &lt;dbl&gt; | stat &lt;dbl&gt; | pvalue &lt;dbl&gt; | padj &lt;dbl&gt; |\n|---|---|---|---|---|---|---|---|\n| 1 | ENSMUSG00000000001.5  | 153.6024296 | -0.9748366 | 0.1853814 | -5.2585457 | 1.451991e-07 | 2.237655e-06 |\n| 2 | ENSMUSG00000000003.16 |   0.0000000 |         NA |        NA |         NA |           NA |           NA |\n| 3 | ENSMUSG00000000028.16 | 139.9527038 | -0.2684466 | 0.1858378 | -1.4445212 | 1.485924e-01 | 3.404956e-01 |\n| 4 | ENSMUSG00000000031.18 |   0.2852441 |  1.6809856 | 3.5729057 |  0.4704814 | 6.380111e-01 |           NA |\n| 5 | ENSMUSG00000000037.18 | 139.9601444 | -0.4650811 | 0.1952566 | -2.3818964 | 1.722374e-02 | 6.850861e-02 |\n| 6 | ENSMUSG00000000049.12 |   0.0000000 |         NA |        NA |         NA |           NA |           NA |\n\n",
            "text/latex": "A data.frame: 6 × 7\n\\begin{tabular}{r|lllllll}\n  & X & baseMean & log2FoldChange & lfcSE & stat & pvalue & padj\\\\\n  & <chr> & <dbl> & <dbl> & <dbl> & <dbl> & <dbl> & <dbl>\\\\\n\\hline\n\t1 & ENSMUSG00000000001.5  & 153.6024296 & -0.9748366 & 0.1853814 & -5.2585457 & 1.451991e-07 & 2.237655e-06\\\\\n\t2 & ENSMUSG00000000003.16 &   0.0000000 &         NA &        NA &         NA &           NA &           NA\\\\\n\t3 & ENSMUSG00000000028.16 & 139.9527038 & -0.2684466 & 0.1858378 & -1.4445212 & 1.485924e-01 & 3.404956e-01\\\\\n\t4 & ENSMUSG00000000031.18 &   0.2852441 &  1.6809856 & 3.5729057 &  0.4704814 & 6.380111e-01 &           NA\\\\\n\t5 & ENSMUSG00000000037.18 & 139.9601444 & -0.4650811 & 0.1952566 & -2.3818964 & 1.722374e-02 & 6.850861e-02\\\\\n\t6 & ENSMUSG00000000049.12 &   0.0000000 &         NA &        NA &         NA &           NA &           NA\\\\\n\\end{tabular}\n",
            "text/plain": [
              "  X                     baseMean    log2FoldChange lfcSE     stat      \n",
              "1 ENSMUSG00000000001.5  153.6024296 -0.9748366     0.1853814 -5.2585457\n",
              "2 ENSMUSG00000000003.16   0.0000000         NA            NA         NA\n",
              "3 ENSMUSG00000000028.16 139.9527038 -0.2684466     0.1858378 -1.4445212\n",
              "4 ENSMUSG00000000031.18   0.2852441  1.6809856     3.5729057  0.4704814\n",
              "5 ENSMUSG00000000037.18 139.9601444 -0.4650811     0.1952566 -2.3818964\n",
              "6 ENSMUSG00000000049.12   0.0000000         NA            NA         NA\n",
              "  pvalue       padj        \n",
              "1 1.451991e-07 2.237655e-06\n",
              "2           NA           NA\n",
              "3 1.485924e-01 3.404956e-01\n",
              "4 6.380111e-01           NA\n",
              "5 1.722374e-02 6.850861e-02\n",
              "6           NA           NA"
            ]
          },
          "metadata": {}
        }
      ]
    },
    {
      "cell_type": "code",
      "source": [
        "genes <- deseq2_results$X\n",
        "genes"
      ],
      "metadata": {
        "id": "qiO8m6toU-Rh"
      },
      "execution_count": null,
      "outputs": []
    },
    {
      "cell_type": "code",
      "source": [
        "genes <- gsub(\"\\\\.[0-9]*$\",\"\",genes)\n",
        "genes"
      ],
      "metadata": {
        "id": "8tTLnHkvVJsO"
      },
      "execution_count": null,
      "outputs": []
    },
    {
      "cell_type": "code",
      "source": [
        "# mart <- useDataset(\"mmusculus_gene_ensembl\", useMart(\"ensembl\"))\n",
        "# genes <- deseq2_results$X\n",
        "G_list <- getBM(filters= \"ensembl_gene_id\", attributes= c(\"ensembl_gene_id\",\"mgi_symbol\"),values=genes,mart= mart)\n",
        "# merge(df,G_list,by.x=\"gene\",by.y=\"ensembl_peptide_id\")\n",
        "G_list"
      ],
      "metadata": {
        "colab": {
          "base_uri": "https://localhost:8080/",
          "height": 1000
        },
        "id": "U45uyxIAR3ft",
        "outputId": "d81bf5aa-de7c-43f7-aa43-1f5f500d3d05"
      },
      "execution_count": 187,
      "outputs": [
        {
          "output_type": "display_data",
          "data": {
            "text/html": [
              "<table class=\"dataframe\">\n",
              "<caption>A data.frame: 56956 × 2</caption>\n",
              "<thead>\n",
              "\t<tr><th scope=col>ensembl_gene_id</th><th scope=col>mgi_symbol</th></tr>\n",
              "\t<tr><th scope=col>&lt;chr&gt;</th><th scope=col>&lt;chr&gt;</th></tr>\n",
              "</thead>\n",
              "<tbody>\n",
              "\t<tr><td>ENSMUSG00000000001</td><td>Gnai3   </td></tr>\n",
              "\t<tr><td>ENSMUSG00000000003</td><td>Pbsn    </td></tr>\n",
              "\t<tr><td>ENSMUSG00000000028</td><td>Cdc45   </td></tr>\n",
              "\t<tr><td>ENSMUSG00000000031</td><td>H19     </td></tr>\n",
              "\t<tr><td>ENSMUSG00000000037</td><td>Scml2   </td></tr>\n",
              "\t<tr><td>ENSMUSG00000000049</td><td>Apoh    </td></tr>\n",
              "\t<tr><td>ENSMUSG00000000056</td><td>Narf    </td></tr>\n",
              "\t<tr><td>ENSMUSG00000000058</td><td>Cav2    </td></tr>\n",
              "\t<tr><td>ENSMUSG00000000078</td><td>Klf6    </td></tr>\n",
              "\t<tr><td>ENSMUSG00000000085</td><td>Scmh1   </td></tr>\n",
              "\t<tr><td>ENSMUSG00000000088</td><td>Cox5a   </td></tr>\n",
              "\t<tr><td>ENSMUSG00000000093</td><td>Tbx2    </td></tr>\n",
              "\t<tr><td>ENSMUSG00000000094</td><td>Tbx4    </td></tr>\n",
              "\t<tr><td>ENSMUSG00000000103</td><td>Zfy2    </td></tr>\n",
              "\t<tr><td>ENSMUSG00000000120</td><td>Ngfr    </td></tr>\n",
              "\t<tr><td>ENSMUSG00000000125</td><td>Wnt3    </td></tr>\n",
              "\t<tr><td>ENSMUSG00000000126</td><td>Wnt9a   </td></tr>\n",
              "\t<tr><td>ENSMUSG00000000127</td><td>Fer     </td></tr>\n",
              "\t<tr><td>ENSMUSG00000000131</td><td>Xpo6    </td></tr>\n",
              "\t<tr><td>ENSMUSG00000000134</td><td>Tfe3    </td></tr>\n",
              "\t<tr><td>ENSMUSG00000000142</td><td>Axin2   </td></tr>\n",
              "\t<tr><td>ENSMUSG00000000148</td><td>Brat1   </td></tr>\n",
              "\t<tr><td>ENSMUSG00000000149</td><td>Gna12   </td></tr>\n",
              "\t<tr><td>ENSMUSG00000000154</td><td>Slc22a18</td></tr>\n",
              "\t<tr><td>ENSMUSG00000000157</td><td>Itgb2l  </td></tr>\n",
              "\t<tr><td>ENSMUSG00000000159</td><td>Igsf5   </td></tr>\n",
              "\t<tr><td>ENSMUSG00000000167</td><td>Pih1d2  </td></tr>\n",
              "\t<tr><td>ENSMUSG00000000168</td><td>Dlat    </td></tr>\n",
              "\t<tr><td>ENSMUSG00000000171</td><td>Sdhd    </td></tr>\n",
              "\t<tr><td>ENSMUSG00000000182</td><td>Fgf23   </td></tr>\n",
              "\t<tr><td>⋮</td><td>⋮</td></tr>\n",
              "\t<tr><td>ENSMUSG00002076963</td><td>Gm54684 </td></tr>\n",
              "\t<tr><td>ENSMUSG00002076964</td><td>Gm56413 </td></tr>\n",
              "\t<tr><td>ENSMUSG00002076965</td><td>Gm55496 </td></tr>\n",
              "\t<tr><td>ENSMUSG00002076966</td><td>Gm55592 </td></tr>\n",
              "\t<tr><td>ENSMUSG00002076967</td><td>Gm54988 </td></tr>\n",
              "\t<tr><td>ENSMUSG00002076968</td><td>Gm55853 </td></tr>\n",
              "\t<tr><td>ENSMUSG00002076969</td><td>Gm55410 </td></tr>\n",
              "\t<tr><td>ENSMUSG00002076970</td><td>Gm55939 </td></tr>\n",
              "\t<tr><td>ENSMUSG00002076971</td><td>Snord100</td></tr>\n",
              "\t<tr><td>ENSMUSG00002076972</td><td>Gm55518 </td></tr>\n",
              "\t<tr><td>ENSMUSG00002076973</td><td>Gm55343 </td></tr>\n",
              "\t<tr><td>ENSMUSG00002076974</td><td>Gm54946 </td></tr>\n",
              "\t<tr><td>ENSMUSG00002076975</td><td>Gm23823 </td></tr>\n",
              "\t<tr><td>ENSMUSG00002076976</td><td>Gm55261 </td></tr>\n",
              "\t<tr><td>ENSMUSG00002076977</td><td>Gm55834 </td></tr>\n",
              "\t<tr><td>ENSMUSG00002076978</td><td>Gm54360 </td></tr>\n",
              "\t<tr><td>ENSMUSG00002076979</td><td>Gm54358 </td></tr>\n",
              "\t<tr><td>ENSMUSG00002076980</td><td>Gm55714 </td></tr>\n",
              "\t<tr><td>ENSMUSG00002076981</td><td>Gm55773 </td></tr>\n",
              "\t<tr><td>ENSMUSG00002076982</td><td>Gm55050 </td></tr>\n",
              "\t<tr><td>ENSMUSG00002076983</td><td>Gm55949 </td></tr>\n",
              "\t<tr><td>ENSMUSG00002076984</td><td>Gm56260 </td></tr>\n",
              "\t<tr><td>ENSMUSG00002076985</td><td>Gm56355 </td></tr>\n",
              "\t<tr><td>ENSMUSG00002076986</td><td>Gm54430 </td></tr>\n",
              "\t<tr><td>ENSMUSG00002076987</td><td>Gm54490 </td></tr>\n",
              "\t<tr><td>ENSMUSG00002076988</td><td>Gm56371 </td></tr>\n",
              "\t<tr><td>ENSMUSG00002076989</td><td>Gm23510 </td></tr>\n",
              "\t<tr><td>ENSMUSG00002076990</td><td>Gm22711 </td></tr>\n",
              "\t<tr><td>ENSMUSG00002076991</td><td>Gm55627 </td></tr>\n",
              "\t<tr><td>ENSMUSG00002076992</td><td>Gm54807 </td></tr>\n",
              "</tbody>\n",
              "</table>\n"
            ],
            "text/markdown": "\nA data.frame: 56956 × 2\n\n| ensembl_gene_id &lt;chr&gt; | mgi_symbol &lt;chr&gt; |\n|---|---|\n| ENSMUSG00000000001 | Gnai3    |\n| ENSMUSG00000000003 | Pbsn     |\n| ENSMUSG00000000028 | Cdc45    |\n| ENSMUSG00000000031 | H19      |\n| ENSMUSG00000000037 | Scml2    |\n| ENSMUSG00000000049 | Apoh     |\n| ENSMUSG00000000056 | Narf     |\n| ENSMUSG00000000058 | Cav2     |\n| ENSMUSG00000000078 | Klf6     |\n| ENSMUSG00000000085 | Scmh1    |\n| ENSMUSG00000000088 | Cox5a    |\n| ENSMUSG00000000093 | Tbx2     |\n| ENSMUSG00000000094 | Tbx4     |\n| ENSMUSG00000000103 | Zfy2     |\n| ENSMUSG00000000120 | Ngfr     |\n| ENSMUSG00000000125 | Wnt3     |\n| ENSMUSG00000000126 | Wnt9a    |\n| ENSMUSG00000000127 | Fer      |\n| ENSMUSG00000000131 | Xpo6     |\n| ENSMUSG00000000134 | Tfe3     |\n| ENSMUSG00000000142 | Axin2    |\n| ENSMUSG00000000148 | Brat1    |\n| ENSMUSG00000000149 | Gna12    |\n| ENSMUSG00000000154 | Slc22a18 |\n| ENSMUSG00000000157 | Itgb2l   |\n| ENSMUSG00000000159 | Igsf5    |\n| ENSMUSG00000000167 | Pih1d2   |\n| ENSMUSG00000000168 | Dlat     |\n| ENSMUSG00000000171 | Sdhd     |\n| ENSMUSG00000000182 | Fgf23    |\n| ⋮ | ⋮ |\n| ENSMUSG00002076963 | Gm54684  |\n| ENSMUSG00002076964 | Gm56413  |\n| ENSMUSG00002076965 | Gm55496  |\n| ENSMUSG00002076966 | Gm55592  |\n| ENSMUSG00002076967 | Gm54988  |\n| ENSMUSG00002076968 | Gm55853  |\n| ENSMUSG00002076969 | Gm55410  |\n| ENSMUSG00002076970 | Gm55939  |\n| ENSMUSG00002076971 | Snord100 |\n| ENSMUSG00002076972 | Gm55518  |\n| ENSMUSG00002076973 | Gm55343  |\n| ENSMUSG00002076974 | Gm54946  |\n| ENSMUSG00002076975 | Gm23823  |\n| ENSMUSG00002076976 | Gm55261  |\n| ENSMUSG00002076977 | Gm55834  |\n| ENSMUSG00002076978 | Gm54360  |\n| ENSMUSG00002076979 | Gm54358  |\n| ENSMUSG00002076980 | Gm55714  |\n| ENSMUSG00002076981 | Gm55773  |\n| ENSMUSG00002076982 | Gm55050  |\n| ENSMUSG00002076983 | Gm55949  |\n| ENSMUSG00002076984 | Gm56260  |\n| ENSMUSG00002076985 | Gm56355  |\n| ENSMUSG00002076986 | Gm54430  |\n| ENSMUSG00002076987 | Gm54490  |\n| ENSMUSG00002076988 | Gm56371  |\n| ENSMUSG00002076989 | Gm23510  |\n| ENSMUSG00002076990 | Gm22711  |\n| ENSMUSG00002076991 | Gm55627  |\n| ENSMUSG00002076992 | Gm54807  |\n\n",
            "text/latex": "A data.frame: 56956 × 2\n\\begin{tabular}{ll}\n ensembl\\_gene\\_id & mgi\\_symbol\\\\\n <chr> & <chr>\\\\\n\\hline\n\t ENSMUSG00000000001 & Gnai3   \\\\\n\t ENSMUSG00000000003 & Pbsn    \\\\\n\t ENSMUSG00000000028 & Cdc45   \\\\\n\t ENSMUSG00000000031 & H19     \\\\\n\t ENSMUSG00000000037 & Scml2   \\\\\n\t ENSMUSG00000000049 & Apoh    \\\\\n\t ENSMUSG00000000056 & Narf    \\\\\n\t ENSMUSG00000000058 & Cav2    \\\\\n\t ENSMUSG00000000078 & Klf6    \\\\\n\t ENSMUSG00000000085 & Scmh1   \\\\\n\t ENSMUSG00000000088 & Cox5a   \\\\\n\t ENSMUSG00000000093 & Tbx2    \\\\\n\t ENSMUSG00000000094 & Tbx4    \\\\\n\t ENSMUSG00000000103 & Zfy2    \\\\\n\t ENSMUSG00000000120 & Ngfr    \\\\\n\t ENSMUSG00000000125 & Wnt3    \\\\\n\t ENSMUSG00000000126 & Wnt9a   \\\\\n\t ENSMUSG00000000127 & Fer     \\\\\n\t ENSMUSG00000000131 & Xpo6    \\\\\n\t ENSMUSG00000000134 & Tfe3    \\\\\n\t ENSMUSG00000000142 & Axin2   \\\\\n\t ENSMUSG00000000148 & Brat1   \\\\\n\t ENSMUSG00000000149 & Gna12   \\\\\n\t ENSMUSG00000000154 & Slc22a18\\\\\n\t ENSMUSG00000000157 & Itgb2l  \\\\\n\t ENSMUSG00000000159 & Igsf5   \\\\\n\t ENSMUSG00000000167 & Pih1d2  \\\\\n\t ENSMUSG00000000168 & Dlat    \\\\\n\t ENSMUSG00000000171 & Sdhd    \\\\\n\t ENSMUSG00000000182 & Fgf23   \\\\\n\t ⋮ & ⋮\\\\\n\t ENSMUSG00002076963 & Gm54684 \\\\\n\t ENSMUSG00002076964 & Gm56413 \\\\\n\t ENSMUSG00002076965 & Gm55496 \\\\\n\t ENSMUSG00002076966 & Gm55592 \\\\\n\t ENSMUSG00002076967 & Gm54988 \\\\\n\t ENSMUSG00002076968 & Gm55853 \\\\\n\t ENSMUSG00002076969 & Gm55410 \\\\\n\t ENSMUSG00002076970 & Gm55939 \\\\\n\t ENSMUSG00002076971 & Snord100\\\\\n\t ENSMUSG00002076972 & Gm55518 \\\\\n\t ENSMUSG00002076973 & Gm55343 \\\\\n\t ENSMUSG00002076974 & Gm54946 \\\\\n\t ENSMUSG00002076975 & Gm23823 \\\\\n\t ENSMUSG00002076976 & Gm55261 \\\\\n\t ENSMUSG00002076977 & Gm55834 \\\\\n\t ENSMUSG00002076978 & Gm54360 \\\\\n\t ENSMUSG00002076979 & Gm54358 \\\\\n\t ENSMUSG00002076980 & Gm55714 \\\\\n\t ENSMUSG00002076981 & Gm55773 \\\\\n\t ENSMUSG00002076982 & Gm55050 \\\\\n\t ENSMUSG00002076983 & Gm55949 \\\\\n\t ENSMUSG00002076984 & Gm56260 \\\\\n\t ENSMUSG00002076985 & Gm56355 \\\\\n\t ENSMUSG00002076986 & Gm54430 \\\\\n\t ENSMUSG00002076987 & Gm54490 \\\\\n\t ENSMUSG00002076988 & Gm56371 \\\\\n\t ENSMUSG00002076989 & Gm23510 \\\\\n\t ENSMUSG00002076990 & Gm22711 \\\\\n\t ENSMUSG00002076991 & Gm55627 \\\\\n\t ENSMUSG00002076992 & Gm54807 \\\\\n\\end{tabular}\n",
            "text/plain": [
              "      ensembl_gene_id    mgi_symbol\n",
              "1     ENSMUSG00000000001 Gnai3     \n",
              "2     ENSMUSG00000000003 Pbsn      \n",
              "3     ENSMUSG00000000028 Cdc45     \n",
              "4     ENSMUSG00000000031 H19       \n",
              "5     ENSMUSG00000000037 Scml2     \n",
              "6     ENSMUSG00000000049 Apoh      \n",
              "7     ENSMUSG00000000056 Narf      \n",
              "8     ENSMUSG00000000058 Cav2      \n",
              "9     ENSMUSG00000000078 Klf6      \n",
              "10    ENSMUSG00000000085 Scmh1     \n",
              "11    ENSMUSG00000000088 Cox5a     \n",
              "12    ENSMUSG00000000093 Tbx2      \n",
              "13    ENSMUSG00000000094 Tbx4      \n",
              "14    ENSMUSG00000000103 Zfy2      \n",
              "15    ENSMUSG00000000120 Ngfr      \n",
              "16    ENSMUSG00000000125 Wnt3      \n",
              "17    ENSMUSG00000000126 Wnt9a     \n",
              "18    ENSMUSG00000000127 Fer       \n",
              "19    ENSMUSG00000000131 Xpo6      \n",
              "20    ENSMUSG00000000134 Tfe3      \n",
              "21    ENSMUSG00000000142 Axin2     \n",
              "22    ENSMUSG00000000148 Brat1     \n",
              "23    ENSMUSG00000000149 Gna12     \n",
              "24    ENSMUSG00000000154 Slc22a18  \n",
              "25    ENSMUSG00000000157 Itgb2l    \n",
              "26    ENSMUSG00000000159 Igsf5     \n",
              "27    ENSMUSG00000000167 Pih1d2    \n",
              "28    ENSMUSG00000000168 Dlat      \n",
              "29    ENSMUSG00000000171 Sdhd      \n",
              "30    ENSMUSG00000000182 Fgf23     \n",
              "⋮     ⋮                  ⋮         \n",
              "56927 ENSMUSG00002076963 Gm54684   \n",
              "56928 ENSMUSG00002076964 Gm56413   \n",
              "56929 ENSMUSG00002076965 Gm55496   \n",
              "56930 ENSMUSG00002076966 Gm55592   \n",
              "56931 ENSMUSG00002076967 Gm54988   \n",
              "56932 ENSMUSG00002076968 Gm55853   \n",
              "56933 ENSMUSG00002076969 Gm55410   \n",
              "56934 ENSMUSG00002076970 Gm55939   \n",
              "56935 ENSMUSG00002076971 Snord100  \n",
              "56936 ENSMUSG00002076972 Gm55518   \n",
              "56937 ENSMUSG00002076973 Gm55343   \n",
              "56938 ENSMUSG00002076974 Gm54946   \n",
              "56939 ENSMUSG00002076975 Gm23823   \n",
              "56940 ENSMUSG00002076976 Gm55261   \n",
              "56941 ENSMUSG00002076977 Gm55834   \n",
              "56942 ENSMUSG00002076978 Gm54360   \n",
              "56943 ENSMUSG00002076979 Gm54358   \n",
              "56944 ENSMUSG00002076980 Gm55714   \n",
              "56945 ENSMUSG00002076981 Gm55773   \n",
              "56946 ENSMUSG00002076982 Gm55050   \n",
              "56947 ENSMUSG00002076983 Gm55949   \n",
              "56948 ENSMUSG00002076984 Gm56260   \n",
              "56949 ENSMUSG00002076985 Gm56355   \n",
              "56950 ENSMUSG00002076986 Gm54430   \n",
              "56951 ENSMUSG00002076987 Gm54490   \n",
              "56952 ENSMUSG00002076988 Gm56371   \n",
              "56953 ENSMUSG00002076989 Gm23510   \n",
              "56954 ENSMUSG00002076990 Gm22711   \n",
              "56955 ENSMUSG00002076991 Gm55627   \n",
              "56956 ENSMUSG00002076992 Gm54807   "
            ]
          },
          "metadata": {}
        }
      ]
    },
    {
      "cell_type": "code",
      "source": [
        "ensembl <- useMart(\"ensembl\", dataset=\"mmusculus_gene_ensembl\")\n",
        "gene_symbols <- getBM(attributes=c(\"ensembl_gene_id\", \"mgi_symbol\"), filters=\"ensembl_gene_id\", values=genes, mart=ensembl)\n",
        "gene_symbols <- gene_symbols[!duplicated(gene_symbols$ensembl_gene_id), ]\n",
        "gene_symbols"
      ],
      "metadata": {
        "colab": {
          "base_uri": "https://localhost:8080/",
          "height": 1000
        },
        "id": "rwT5oxl5JQiI",
        "outputId": "f1ca4e75-8f6d-4a2e-f603-83135c1261d9"
      },
      "execution_count": 188,
      "outputs": [
        {
          "output_type": "display_data",
          "data": {
            "text/html": [
              "<table class=\"dataframe\">\n",
              "<caption>A data.frame: 56953 × 2</caption>\n",
              "<thead>\n",
              "\t<tr><th></th><th scope=col>ensembl_gene_id</th><th scope=col>mgi_symbol</th></tr>\n",
              "\t<tr><th></th><th scope=col>&lt;chr&gt;</th><th scope=col>&lt;chr&gt;</th></tr>\n",
              "</thead>\n",
              "<tbody>\n",
              "\t<tr><th scope=row>1</th><td>ENSMUSG00000000001</td><td>Gnai3   </td></tr>\n",
              "\t<tr><th scope=row>2</th><td>ENSMUSG00000000003</td><td>Pbsn    </td></tr>\n",
              "\t<tr><th scope=row>3</th><td>ENSMUSG00000000028</td><td>Cdc45   </td></tr>\n",
              "\t<tr><th scope=row>4</th><td>ENSMUSG00000000031</td><td>H19     </td></tr>\n",
              "\t<tr><th scope=row>5</th><td>ENSMUSG00000000037</td><td>Scml2   </td></tr>\n",
              "\t<tr><th scope=row>6</th><td>ENSMUSG00000000049</td><td>Apoh    </td></tr>\n",
              "\t<tr><th scope=row>7</th><td>ENSMUSG00000000056</td><td>Narf    </td></tr>\n",
              "\t<tr><th scope=row>8</th><td>ENSMUSG00000000058</td><td>Cav2    </td></tr>\n",
              "\t<tr><th scope=row>9</th><td>ENSMUSG00000000078</td><td>Klf6    </td></tr>\n",
              "\t<tr><th scope=row>10</th><td>ENSMUSG00000000085</td><td>Scmh1   </td></tr>\n",
              "\t<tr><th scope=row>11</th><td>ENSMUSG00000000088</td><td>Cox5a   </td></tr>\n",
              "\t<tr><th scope=row>12</th><td>ENSMUSG00000000093</td><td>Tbx2    </td></tr>\n",
              "\t<tr><th scope=row>13</th><td>ENSMUSG00000000094</td><td>Tbx4    </td></tr>\n",
              "\t<tr><th scope=row>14</th><td>ENSMUSG00000000103</td><td>Zfy2    </td></tr>\n",
              "\t<tr><th scope=row>15</th><td>ENSMUSG00000000120</td><td>Ngfr    </td></tr>\n",
              "\t<tr><th scope=row>16</th><td>ENSMUSG00000000125</td><td>Wnt3    </td></tr>\n",
              "\t<tr><th scope=row>17</th><td>ENSMUSG00000000126</td><td>Wnt9a   </td></tr>\n",
              "\t<tr><th scope=row>18</th><td>ENSMUSG00000000127</td><td>Fer     </td></tr>\n",
              "\t<tr><th scope=row>19</th><td>ENSMUSG00000000131</td><td>Xpo6    </td></tr>\n",
              "\t<tr><th scope=row>20</th><td>ENSMUSG00000000134</td><td>Tfe3    </td></tr>\n",
              "\t<tr><th scope=row>21</th><td>ENSMUSG00000000142</td><td>Axin2   </td></tr>\n",
              "\t<tr><th scope=row>22</th><td>ENSMUSG00000000148</td><td>Brat1   </td></tr>\n",
              "\t<tr><th scope=row>23</th><td>ENSMUSG00000000149</td><td>Gna12   </td></tr>\n",
              "\t<tr><th scope=row>24</th><td>ENSMUSG00000000154</td><td>Slc22a18</td></tr>\n",
              "\t<tr><th scope=row>25</th><td>ENSMUSG00000000157</td><td>Itgb2l  </td></tr>\n",
              "\t<tr><th scope=row>26</th><td>ENSMUSG00000000159</td><td>Igsf5   </td></tr>\n",
              "\t<tr><th scope=row>27</th><td>ENSMUSG00000000167</td><td>Pih1d2  </td></tr>\n",
              "\t<tr><th scope=row>28</th><td>ENSMUSG00000000168</td><td>Dlat    </td></tr>\n",
              "\t<tr><th scope=row>29</th><td>ENSMUSG00000000171</td><td>Sdhd    </td></tr>\n",
              "\t<tr><th scope=row>30</th><td>ENSMUSG00000000182</td><td>Fgf23   </td></tr>\n",
              "\t<tr><th scope=row>⋮</th><td>⋮</td><td>⋮</td></tr>\n",
              "\t<tr><th scope=row>56927</th><td>ENSMUSG00002076963</td><td>Gm54684 </td></tr>\n",
              "\t<tr><th scope=row>56928</th><td>ENSMUSG00002076964</td><td>Gm56413 </td></tr>\n",
              "\t<tr><th scope=row>56929</th><td>ENSMUSG00002076965</td><td>Gm55496 </td></tr>\n",
              "\t<tr><th scope=row>56930</th><td>ENSMUSG00002076966</td><td>Gm55592 </td></tr>\n",
              "\t<tr><th scope=row>56931</th><td>ENSMUSG00002076967</td><td>Gm54988 </td></tr>\n",
              "\t<tr><th scope=row>56932</th><td>ENSMUSG00002076968</td><td>Gm55853 </td></tr>\n",
              "\t<tr><th scope=row>56933</th><td>ENSMUSG00002076969</td><td>Gm55410 </td></tr>\n",
              "\t<tr><th scope=row>56934</th><td>ENSMUSG00002076970</td><td>Gm55939 </td></tr>\n",
              "\t<tr><th scope=row>56935</th><td>ENSMUSG00002076971</td><td>Snord100</td></tr>\n",
              "\t<tr><th scope=row>56936</th><td>ENSMUSG00002076972</td><td>Gm55518 </td></tr>\n",
              "\t<tr><th scope=row>56937</th><td>ENSMUSG00002076973</td><td>Gm55343 </td></tr>\n",
              "\t<tr><th scope=row>56938</th><td>ENSMUSG00002076974</td><td>Gm54946 </td></tr>\n",
              "\t<tr><th scope=row>56939</th><td>ENSMUSG00002076975</td><td>Gm23823 </td></tr>\n",
              "\t<tr><th scope=row>56940</th><td>ENSMUSG00002076976</td><td>Gm55261 </td></tr>\n",
              "\t<tr><th scope=row>56941</th><td>ENSMUSG00002076977</td><td>Gm55834 </td></tr>\n",
              "\t<tr><th scope=row>56942</th><td>ENSMUSG00002076978</td><td>Gm54360 </td></tr>\n",
              "\t<tr><th scope=row>56943</th><td>ENSMUSG00002076979</td><td>Gm54358 </td></tr>\n",
              "\t<tr><th scope=row>56944</th><td>ENSMUSG00002076980</td><td>Gm55714 </td></tr>\n",
              "\t<tr><th scope=row>56945</th><td>ENSMUSG00002076981</td><td>Gm55773 </td></tr>\n",
              "\t<tr><th scope=row>56946</th><td>ENSMUSG00002076982</td><td>Gm55050 </td></tr>\n",
              "\t<tr><th scope=row>56947</th><td>ENSMUSG00002076983</td><td>Gm55949 </td></tr>\n",
              "\t<tr><th scope=row>56948</th><td>ENSMUSG00002076984</td><td>Gm56260 </td></tr>\n",
              "\t<tr><th scope=row>56949</th><td>ENSMUSG00002076985</td><td>Gm56355 </td></tr>\n",
              "\t<tr><th scope=row>56950</th><td>ENSMUSG00002076986</td><td>Gm54430 </td></tr>\n",
              "\t<tr><th scope=row>56951</th><td>ENSMUSG00002076987</td><td>Gm54490 </td></tr>\n",
              "\t<tr><th scope=row>56952</th><td>ENSMUSG00002076988</td><td>Gm56371 </td></tr>\n",
              "\t<tr><th scope=row>56953</th><td>ENSMUSG00002076989</td><td>Gm23510 </td></tr>\n",
              "\t<tr><th scope=row>56954</th><td>ENSMUSG00002076990</td><td>Gm22711 </td></tr>\n",
              "\t<tr><th scope=row>56955</th><td>ENSMUSG00002076991</td><td>Gm55627 </td></tr>\n",
              "\t<tr><th scope=row>56956</th><td>ENSMUSG00002076992</td><td>Gm54807 </td></tr>\n",
              "</tbody>\n",
              "</table>\n"
            ],
            "text/markdown": "\nA data.frame: 56953 × 2\n\n| <!--/--> | ensembl_gene_id &lt;chr&gt; | mgi_symbol &lt;chr&gt; |\n|---|---|---|\n| 1 | ENSMUSG00000000001 | Gnai3    |\n| 2 | ENSMUSG00000000003 | Pbsn     |\n| 3 | ENSMUSG00000000028 | Cdc45    |\n| 4 | ENSMUSG00000000031 | H19      |\n| 5 | ENSMUSG00000000037 | Scml2    |\n| 6 | ENSMUSG00000000049 | Apoh     |\n| 7 | ENSMUSG00000000056 | Narf     |\n| 8 | ENSMUSG00000000058 | Cav2     |\n| 9 | ENSMUSG00000000078 | Klf6     |\n| 10 | ENSMUSG00000000085 | Scmh1    |\n| 11 | ENSMUSG00000000088 | Cox5a    |\n| 12 | ENSMUSG00000000093 | Tbx2     |\n| 13 | ENSMUSG00000000094 | Tbx4     |\n| 14 | ENSMUSG00000000103 | Zfy2     |\n| 15 | ENSMUSG00000000120 | Ngfr     |\n| 16 | ENSMUSG00000000125 | Wnt3     |\n| 17 | ENSMUSG00000000126 | Wnt9a    |\n| 18 | ENSMUSG00000000127 | Fer      |\n| 19 | ENSMUSG00000000131 | Xpo6     |\n| 20 | ENSMUSG00000000134 | Tfe3     |\n| 21 | ENSMUSG00000000142 | Axin2    |\n| 22 | ENSMUSG00000000148 | Brat1    |\n| 23 | ENSMUSG00000000149 | Gna12    |\n| 24 | ENSMUSG00000000154 | Slc22a18 |\n| 25 | ENSMUSG00000000157 | Itgb2l   |\n| 26 | ENSMUSG00000000159 | Igsf5    |\n| 27 | ENSMUSG00000000167 | Pih1d2   |\n| 28 | ENSMUSG00000000168 | Dlat     |\n| 29 | ENSMUSG00000000171 | Sdhd     |\n| 30 | ENSMUSG00000000182 | Fgf23    |\n| ⋮ | ⋮ | ⋮ |\n| 56927 | ENSMUSG00002076963 | Gm54684  |\n| 56928 | ENSMUSG00002076964 | Gm56413  |\n| 56929 | ENSMUSG00002076965 | Gm55496  |\n| 56930 | ENSMUSG00002076966 | Gm55592  |\n| 56931 | ENSMUSG00002076967 | Gm54988  |\n| 56932 | ENSMUSG00002076968 | Gm55853  |\n| 56933 | ENSMUSG00002076969 | Gm55410  |\n| 56934 | ENSMUSG00002076970 | Gm55939  |\n| 56935 | ENSMUSG00002076971 | Snord100 |\n| 56936 | ENSMUSG00002076972 | Gm55518  |\n| 56937 | ENSMUSG00002076973 | Gm55343  |\n| 56938 | ENSMUSG00002076974 | Gm54946  |\n| 56939 | ENSMUSG00002076975 | Gm23823  |\n| 56940 | ENSMUSG00002076976 | Gm55261  |\n| 56941 | ENSMUSG00002076977 | Gm55834  |\n| 56942 | ENSMUSG00002076978 | Gm54360  |\n| 56943 | ENSMUSG00002076979 | Gm54358  |\n| 56944 | ENSMUSG00002076980 | Gm55714  |\n| 56945 | ENSMUSG00002076981 | Gm55773  |\n| 56946 | ENSMUSG00002076982 | Gm55050  |\n| 56947 | ENSMUSG00002076983 | Gm55949  |\n| 56948 | ENSMUSG00002076984 | Gm56260  |\n| 56949 | ENSMUSG00002076985 | Gm56355  |\n| 56950 | ENSMUSG00002076986 | Gm54430  |\n| 56951 | ENSMUSG00002076987 | Gm54490  |\n| 56952 | ENSMUSG00002076988 | Gm56371  |\n| 56953 | ENSMUSG00002076989 | Gm23510  |\n| 56954 | ENSMUSG00002076990 | Gm22711  |\n| 56955 | ENSMUSG00002076991 | Gm55627  |\n| 56956 | ENSMUSG00002076992 | Gm54807  |\n\n",
            "text/latex": "A data.frame: 56953 × 2\n\\begin{tabular}{r|ll}\n  & ensembl\\_gene\\_id & mgi\\_symbol\\\\\n  & <chr> & <chr>\\\\\n\\hline\n\t1 & ENSMUSG00000000001 & Gnai3   \\\\\n\t2 & ENSMUSG00000000003 & Pbsn    \\\\\n\t3 & ENSMUSG00000000028 & Cdc45   \\\\\n\t4 & ENSMUSG00000000031 & H19     \\\\\n\t5 & ENSMUSG00000000037 & Scml2   \\\\\n\t6 & ENSMUSG00000000049 & Apoh    \\\\\n\t7 & ENSMUSG00000000056 & Narf    \\\\\n\t8 & ENSMUSG00000000058 & Cav2    \\\\\n\t9 & ENSMUSG00000000078 & Klf6    \\\\\n\t10 & ENSMUSG00000000085 & Scmh1   \\\\\n\t11 & ENSMUSG00000000088 & Cox5a   \\\\\n\t12 & ENSMUSG00000000093 & Tbx2    \\\\\n\t13 & ENSMUSG00000000094 & Tbx4    \\\\\n\t14 & ENSMUSG00000000103 & Zfy2    \\\\\n\t15 & ENSMUSG00000000120 & Ngfr    \\\\\n\t16 & ENSMUSG00000000125 & Wnt3    \\\\\n\t17 & ENSMUSG00000000126 & Wnt9a   \\\\\n\t18 & ENSMUSG00000000127 & Fer     \\\\\n\t19 & ENSMUSG00000000131 & Xpo6    \\\\\n\t20 & ENSMUSG00000000134 & Tfe3    \\\\\n\t21 & ENSMUSG00000000142 & Axin2   \\\\\n\t22 & ENSMUSG00000000148 & Brat1   \\\\\n\t23 & ENSMUSG00000000149 & Gna12   \\\\\n\t24 & ENSMUSG00000000154 & Slc22a18\\\\\n\t25 & ENSMUSG00000000157 & Itgb2l  \\\\\n\t26 & ENSMUSG00000000159 & Igsf5   \\\\\n\t27 & ENSMUSG00000000167 & Pih1d2  \\\\\n\t28 & ENSMUSG00000000168 & Dlat    \\\\\n\t29 & ENSMUSG00000000171 & Sdhd    \\\\\n\t30 & ENSMUSG00000000182 & Fgf23   \\\\\n\t⋮ & ⋮ & ⋮\\\\\n\t56927 & ENSMUSG00002076963 & Gm54684 \\\\\n\t56928 & ENSMUSG00002076964 & Gm56413 \\\\\n\t56929 & ENSMUSG00002076965 & Gm55496 \\\\\n\t56930 & ENSMUSG00002076966 & Gm55592 \\\\\n\t56931 & ENSMUSG00002076967 & Gm54988 \\\\\n\t56932 & ENSMUSG00002076968 & Gm55853 \\\\\n\t56933 & ENSMUSG00002076969 & Gm55410 \\\\\n\t56934 & ENSMUSG00002076970 & Gm55939 \\\\\n\t56935 & ENSMUSG00002076971 & Snord100\\\\\n\t56936 & ENSMUSG00002076972 & Gm55518 \\\\\n\t56937 & ENSMUSG00002076973 & Gm55343 \\\\\n\t56938 & ENSMUSG00002076974 & Gm54946 \\\\\n\t56939 & ENSMUSG00002076975 & Gm23823 \\\\\n\t56940 & ENSMUSG00002076976 & Gm55261 \\\\\n\t56941 & ENSMUSG00002076977 & Gm55834 \\\\\n\t56942 & ENSMUSG00002076978 & Gm54360 \\\\\n\t56943 & ENSMUSG00002076979 & Gm54358 \\\\\n\t56944 & ENSMUSG00002076980 & Gm55714 \\\\\n\t56945 & ENSMUSG00002076981 & Gm55773 \\\\\n\t56946 & ENSMUSG00002076982 & Gm55050 \\\\\n\t56947 & ENSMUSG00002076983 & Gm55949 \\\\\n\t56948 & ENSMUSG00002076984 & Gm56260 \\\\\n\t56949 & ENSMUSG00002076985 & Gm56355 \\\\\n\t56950 & ENSMUSG00002076986 & Gm54430 \\\\\n\t56951 & ENSMUSG00002076987 & Gm54490 \\\\\n\t56952 & ENSMUSG00002076988 & Gm56371 \\\\\n\t56953 & ENSMUSG00002076989 & Gm23510 \\\\\n\t56954 & ENSMUSG00002076990 & Gm22711 \\\\\n\t56955 & ENSMUSG00002076991 & Gm55627 \\\\\n\t56956 & ENSMUSG00002076992 & Gm54807 \\\\\n\\end{tabular}\n",
            "text/plain": [
              "      ensembl_gene_id    mgi_symbol\n",
              "1     ENSMUSG00000000001 Gnai3     \n",
              "2     ENSMUSG00000000003 Pbsn      \n",
              "3     ENSMUSG00000000028 Cdc45     \n",
              "4     ENSMUSG00000000031 H19       \n",
              "5     ENSMUSG00000000037 Scml2     \n",
              "6     ENSMUSG00000000049 Apoh      \n",
              "7     ENSMUSG00000000056 Narf      \n",
              "8     ENSMUSG00000000058 Cav2      \n",
              "9     ENSMUSG00000000078 Klf6      \n",
              "10    ENSMUSG00000000085 Scmh1     \n",
              "11    ENSMUSG00000000088 Cox5a     \n",
              "12    ENSMUSG00000000093 Tbx2      \n",
              "13    ENSMUSG00000000094 Tbx4      \n",
              "14    ENSMUSG00000000103 Zfy2      \n",
              "15    ENSMUSG00000000120 Ngfr      \n",
              "16    ENSMUSG00000000125 Wnt3      \n",
              "17    ENSMUSG00000000126 Wnt9a     \n",
              "18    ENSMUSG00000000127 Fer       \n",
              "19    ENSMUSG00000000131 Xpo6      \n",
              "20    ENSMUSG00000000134 Tfe3      \n",
              "21    ENSMUSG00000000142 Axin2     \n",
              "22    ENSMUSG00000000148 Brat1     \n",
              "23    ENSMUSG00000000149 Gna12     \n",
              "24    ENSMUSG00000000154 Slc22a18  \n",
              "25    ENSMUSG00000000157 Itgb2l    \n",
              "26    ENSMUSG00000000159 Igsf5     \n",
              "27    ENSMUSG00000000167 Pih1d2    \n",
              "28    ENSMUSG00000000168 Dlat      \n",
              "29    ENSMUSG00000000171 Sdhd      \n",
              "30    ENSMUSG00000000182 Fgf23     \n",
              "⋮     ⋮                  ⋮         \n",
              "56927 ENSMUSG00002076963 Gm54684   \n",
              "56928 ENSMUSG00002076964 Gm56413   \n",
              "56929 ENSMUSG00002076965 Gm55496   \n",
              "56930 ENSMUSG00002076966 Gm55592   \n",
              "56931 ENSMUSG00002076967 Gm54988   \n",
              "56932 ENSMUSG00002076968 Gm55853   \n",
              "56933 ENSMUSG00002076969 Gm55410   \n",
              "56934 ENSMUSG00002076970 Gm55939   \n",
              "56935 ENSMUSG00002076971 Snord100  \n",
              "56936 ENSMUSG00002076972 Gm55518   \n",
              "56937 ENSMUSG00002076973 Gm55343   \n",
              "56938 ENSMUSG00002076974 Gm54946   \n",
              "56939 ENSMUSG00002076975 Gm23823   \n",
              "56940 ENSMUSG00002076976 Gm55261   \n",
              "56941 ENSMUSG00002076977 Gm55834   \n",
              "56942 ENSMUSG00002076978 Gm54360   \n",
              "56943 ENSMUSG00002076979 Gm54358   \n",
              "56944 ENSMUSG00002076980 Gm55714   \n",
              "56945 ENSMUSG00002076981 Gm55773   \n",
              "56946 ENSMUSG00002076982 Gm55050   \n",
              "56947 ENSMUSG00002076983 Gm55949   \n",
              "56948 ENSMUSG00002076984 Gm56260   \n",
              "56949 ENSMUSG00002076985 Gm56355   \n",
              "56950 ENSMUSG00002076986 Gm54430   \n",
              "56951 ENSMUSG00002076987 Gm54490   \n",
              "56952 ENSMUSG00002076988 Gm56371   \n",
              "56953 ENSMUSG00002076989 Gm23510   \n",
              "56954 ENSMUSG00002076990 Gm22711   \n",
              "56955 ENSMUSG00002076991 Gm55627   \n",
              "56956 ENSMUSG00002076992 Gm54807   "
            ]
          },
          "metadata": {}
        }
      ]
    },
    {
      "cell_type": "code",
      "source": [
        "rownames(gene_symbols) <- gene_symbols$ensembl_gene_id\n",
        "deseq2_results$gene <- gene_symbols$mgi_symbol"
      ],
      "metadata": {
        "id": "h3j68zR_NzlJ"
      },
      "execution_count": 189,
      "outputs": []
    },
    {
      "cell_type": "code",
      "source": [
        "deseq2_results"
      ],
      "metadata": {
        "colab": {
          "base_uri": "https://localhost:8080/",
          "height": 1000
        },
        "id": "2yhomOxwMX4w",
        "outputId": "02344d66-3cd4-41ad-e4a1-780c8fbc029a"
      },
      "execution_count": 190,
      "outputs": [
        {
          "output_type": "display_data",
          "data": {
            "text/html": [
              "<table class=\"dataframe\">\n",
              "<caption>A data.frame: 56953 × 8</caption>\n",
              "<thead>\n",
              "\t<tr><th scope=col>X</th><th scope=col>baseMean</th><th scope=col>log2FoldChange</th><th scope=col>lfcSE</th><th scope=col>stat</th><th scope=col>pvalue</th><th scope=col>padj</th><th scope=col>gene</th></tr>\n",
              "\t<tr><th scope=col>&lt;chr&gt;</th><th scope=col>&lt;dbl&gt;</th><th scope=col>&lt;dbl&gt;</th><th scope=col>&lt;dbl&gt;</th><th scope=col>&lt;dbl&gt;</th><th scope=col>&lt;dbl&gt;</th><th scope=col>&lt;dbl&gt;</th><th scope=col>&lt;chr&gt;</th></tr>\n",
              "</thead>\n",
              "<tbody>\n",
              "\t<tr><td>ENSMUSG00000000001.5 </td><td> 153.6024296</td><td>-0.97483661</td><td>0.1853814</td><td>-5.25854573</td><td>1.451991e-07</td><td>2.237655e-06</td><td>Gnai3   </td></tr>\n",
              "\t<tr><td>ENSMUSG00000000003.16</td><td>   0.0000000</td><td>         NA</td><td>       NA</td><td>         NA</td><td>          NA</td><td>          NA</td><td>Pbsn    </td></tr>\n",
              "\t<tr><td>ENSMUSG00000000028.16</td><td> 139.9527038</td><td>-0.26844660</td><td>0.1858378</td><td>-1.44452120</td><td>1.485924e-01</td><td>3.404956e-01</td><td>Cdc45   </td></tr>\n",
              "\t<tr><td>ENSMUSG00000000031.18</td><td>   0.2852441</td><td> 1.68098557</td><td>3.5729057</td><td> 0.47048137</td><td>6.380111e-01</td><td>          NA</td><td>H19     </td></tr>\n",
              "\t<tr><td>ENSMUSG00000000037.18</td><td> 139.9601444</td><td>-0.46508110</td><td>0.1952566</td><td>-2.38189644</td><td>1.722374e-02</td><td>6.850861e-02</td><td>Scml2   </td></tr>\n",
              "\t<tr><td>ENSMUSG00000000049.12</td><td>   0.0000000</td><td>         NA</td><td>       NA</td><td>         NA</td><td>          NA</td><td>          NA</td><td>Apoh    </td></tr>\n",
              "\t<tr><td>ENSMUSG00000000056.8 </td><td>   0.2988628</td><td> 1.72335194</td><td>3.8741709</td><td> 0.44483116</td><td>6.564418e-01</td><td>          NA</td><td>Narf    </td></tr>\n",
              "\t<tr><td>ENSMUSG00000000058.7 </td><td>1257.3483524</td><td>-0.48136183</td><td>0.1184684</td><td>-4.06320974</td><td>4.840250e-05</td><td>4.419613e-04</td><td>Cav2    </td></tr>\n",
              "\t<tr><td>ENSMUSG00000000078.8 </td><td>   0.1715620</td><td>-1.00981298</td><td>4.0804729</td><td>-0.24747450</td><td>8.045410e-01</td><td>          NA</td><td>Klf6    </td></tr>\n",
              "\t<tr><td>ENSMUSG00000000085.17</td><td>   0.1358127</td><td> 0.91374037</td><td>4.0804729</td><td> 0.22393002</td><td>8.228118e-01</td><td>          NA</td><td>Scmh1   </td></tr>\n",
              "\t<tr><td>ENSMUSG00000000088.8 </td><td>  13.0666250</td><td>-0.04888990</td><td>0.5925950</td><td>-0.08250136</td><td>9.342480e-01</td><td>9.706945e-01</td><td>Cox5a   </td></tr>\n",
              "\t<tr><td>ENSMUSG00000000093.7 </td><td>   0.2101579</td><td> 0.91374037</td><td>4.0804729</td><td> 0.22393002</td><td>8.228118e-01</td><td>          NA</td><td>Tbx2    </td></tr>\n",
              "\t<tr><td>ENSMUSG00000000094.13</td><td>  17.1678972</td><td>-0.40621463</td><td>0.4879813</td><td>-0.83243892</td><td>4.051612e-01</td><td>6.389906e-01</td><td>Tbx4    </td></tr>\n",
              "\t<tr><td>ENSMUSG00000000103.13</td><td>   0.0000000</td><td>         NA</td><td>       NA</td><td>         NA</td><td>          NA</td><td>          NA</td><td>Zfy2    </td></tr>\n",
              "\t<tr><td>ENSMUSG00000000120.7 </td><td>   5.8528885</td><td>-0.60526160</td><td>0.8290121</td><td>-0.73009982</td><td>4.653292e-01</td><td>6.916603e-01</td><td>Ngfr    </td></tr>\n",
              "\t<tr><td>ENSMUSG00000000125.6 </td><td>  10.4190348</td><td> 0.35642099</td><td>0.6164437</td><td> 0.57818908</td><td>5.631365e-01</td><td>7.634821e-01</td><td>Wnt3    </td></tr>\n",
              "\t<tr><td>ENSMUSG00000000126.12</td><td>  56.0056265</td><td>-0.04117141</td><td>0.2648967</td><td>-0.15542441</td><td>8.764867e-01</td><td>9.457877e-01</td><td>Wnt9a   </td></tr>\n",
              "\t<tr><td>ENSMUSG00000000127.16</td><td>   6.1952346</td><td>-0.49915728</td><td>0.7991391</td><td>-0.62461874</td><td>5.322213e-01</td><td>7.435884e-01</td><td>Fer     </td></tr>\n",
              "\t<tr><td>ENSMUSG00000000131.16</td><td> 143.6013752</td><td> 0.01830672</td><td>0.1799197</td><td> 0.10174939</td><td>9.189556e-01</td><td>9.652725e-01</td><td>Xpo6    </td></tr>\n",
              "\t<tr><td>ENSMUSG00000000134.18</td><td>   0.3209934</td><td>-0.04802911</td><td>3.4673043</td><td>-0.01385200</td><td>9.889481e-01</td><td>          NA</td><td>Tfe3    </td></tr>\n",
              "\t<tr><td>ENSMUSG00000000142.16</td><td>   0.4954020</td><td> 2.40914095</td><td>2.6824268</td><td> 0.89811992</td><td>3.691216e-01</td><td>          NA</td><td>Axin2   </td></tr>\n",
              "\t<tr><td>ENSMUSG00000000148.18</td><td>  16.1765509</td><td> 0.32434113</td><td>0.4808334</td><td> 0.67453953</td><td>4.999684e-01</td><td>7.184910e-01</td><td>Brat1   </td></tr>\n",
              "\t<tr><td>ENSMUSG00000000149.11</td><td>  10.8225504</td><td> 3.04024012</td><td>0.7459056</td><td> 4.07590460</td><td>4.583581e-05</td><td>4.209333e-04</td><td>Gna12   </td></tr>\n",
              "\t<tr><td>ENSMUSG00000000154.17</td><td>1317.0704368</td><td>-0.75682244</td><td>0.1472448</td><td>-5.13989400</td><td>2.748935e-07</td><td>3.996250e-06</td><td>Slc22a18</td></tr>\n",
              "\t<tr><td>ENSMUSG00000000157.17</td><td>   4.2231240</td><td>-1.02661621</td><td>0.9546978</td><td>-1.07533111</td><td>2.822265e-01</td><td>5.190044e-01</td><td>Itgb2l  </td></tr>\n",
              "\t<tr><td>ENSMUSG00000000159.17</td><td>   0.5532819</td><td>-0.96843896</td><td>2.8667760</td><td>-0.33781466</td><td>7.355029e-01</td><td>          NA</td><td>Igsf5   </td></tr>\n",
              "\t<tr><td>ENSMUSG00000000167.15</td><td>   2.3626204</td><td>-0.34130315</td><td>1.3223174</td><td>-0.25810985</td><td>7.963221e-01</td><td>9.039902e-01</td><td>Pih1d2  </td></tr>\n",
              "\t<tr><td>ENSMUSG00000000168.11</td><td>   2.5588791</td><td> 1.05400806</td><td>1.2162656</td><td> 0.86659369</td><td>3.861647e-01</td><td>6.253590e-01</td><td>Dlat    </td></tr>\n",
              "\t<tr><td>ENSMUSG00000000171.6 </td><td>   2.9816650</td><td> 3.96976124</td><td>1.5300720</td><td> 2.59449307</td><td>9.473052e-03</td><td>4.221578e-02</td><td>Sdhd    </td></tr>\n",
              "\t<tr><td>ENSMUSG00000000182.10</td><td>   0.0000000</td><td>         NA</td><td>       NA</td><td>         NA</td><td>          NA</td><td>          NA</td><td>Fgf23   </td></tr>\n",
              "\t<tr><td>⋮</td><td>⋮</td><td>⋮</td><td>⋮</td><td>⋮</td><td>⋮</td><td>⋮</td><td>⋮</td></tr>\n",
              "\t<tr><td>ENSMUSG00002076963.1</td><td>0.1494314</td><td> 0.9137404</td><td>4.0804729</td><td> 0.2239300</td><td>0.82281176</td><td>       NA</td><td>Gm54684 </td></tr>\n",
              "\t<tr><td>ENSMUSG00002076964.1</td><td>0.0000000</td><td>        NA</td><td>       NA</td><td>        NA</td><td>        NA</td><td>       NA</td><td>Gm56413 </td></tr>\n",
              "\t<tr><td>ENSMUSG00002076965.1</td><td>0.0000000</td><td>        NA</td><td>       NA</td><td>        NA</td><td>        NA</td><td>       NA</td><td>Gm55496 </td></tr>\n",
              "\t<tr><td>ENSMUSG00002076966.1</td><td>0.0000000</td><td>        NA</td><td>       NA</td><td>        NA</td><td>        NA</td><td>       NA</td><td>Gm55592 </td></tr>\n",
              "\t<tr><td>ENSMUSG00002076967.1</td><td>0.0000000</td><td>        NA</td><td>       NA</td><td>        NA</td><td>        NA</td><td>       NA</td><td>Gm54988 </td></tr>\n",
              "\t<tr><td>ENSMUSG00002076968.1</td><td>0.1494314</td><td> 0.9137404</td><td>4.0804729</td><td> 0.2239300</td><td>0.82281176</td><td>       NA</td><td>Gm55853 </td></tr>\n",
              "\t<tr><td>ENSMUSG00002076969.1</td><td>0.0000000</td><td>        NA</td><td>       NA</td><td>        NA</td><td>        NA</td><td>       NA</td><td>Gm55410 </td></tr>\n",
              "\t<tr><td>ENSMUSG00002076970.1</td><td>0.0000000</td><td>        NA</td><td>       NA</td><td>        NA</td><td>        NA</td><td>       NA</td><td>Gm55939 </td></tr>\n",
              "\t<tr><td>ENSMUSG00002076971.1</td><td>0.0000000</td><td>        NA</td><td>       NA</td><td>        NA</td><td>        NA</td><td>       NA</td><td>Snord100</td></tr>\n",
              "\t<tr><td>ENSMUSG00002076972.1</td><td>0.0000000</td><td>        NA</td><td>       NA</td><td>        NA</td><td>        NA</td><td>       NA</td><td>Gm55518 </td></tr>\n",
              "\t<tr><td>ENSMUSG00002076973.1</td><td>0.3314874</td><td>-1.8922933</td><td>3.3807606</td><td>-0.5597241</td><td>0.57566762</td><td>       NA</td><td>Gm55343 </td></tr>\n",
              "\t<tr><td>ENSMUSG00002076974.1</td><td>0.1715620</td><td>-1.0098130</td><td>4.0804729</td><td>-0.2474745</td><td>0.80454102</td><td>       NA</td><td>Gm54946 </td></tr>\n",
              "\t<tr><td>ENSMUSG00002076975.1</td><td>0.0000000</td><td>        NA</td><td>       NA</td><td>        NA</td><td>        NA</td><td>       NA</td><td>Gm23823 </td></tr>\n",
              "\t<tr><td>ENSMUSG00002076976.1</td><td>5.7490963</td><td> 1.7094051</td><td>0.8562685</td><td> 1.9963422</td><td>0.04589668</td><td>0.1446279</td><td>Gm55261 </td></tr>\n",
              "\t<tr><td>ENSMUSG00002076977.1</td><td>8.8984046</td><td> 0.6046858</td><td>0.6471853</td><td> 0.9343318</td><td>0.35013278</td><td>0.5912247</td><td>Gm55834 </td></tr>\n",
              "\t<tr><td>ENSMUSG00002076978.1</td><td>0.0000000</td><td>        NA</td><td>       NA</td><td>        NA</td><td>        NA</td><td>       NA</td><td>Gm54360 </td></tr>\n",
              "\t<tr><td>ENSMUSG00002076979.1</td><td>0.0000000</td><td>        NA</td><td>       NA</td><td>        NA</td><td>        NA</td><td>       NA</td><td>Gm54358 </td></tr>\n",
              "\t<tr><td>ENSMUSG00002076980.1</td><td>0.0000000</td><td>        NA</td><td>       NA</td><td>        NA</td><td>        NA</td><td>       NA</td><td>Gm55714 </td></tr>\n",
              "\t<tr><td>ENSMUSG00002076981.1</td><td>0.0000000</td><td>        NA</td><td>       NA</td><td>        NA</td><td>        NA</td><td>       NA</td><td>Gm55773 </td></tr>\n",
              "\t<tr><td>ENSMUSG00002076982.1</td><td>0.0000000</td><td>        NA</td><td>       NA</td><td>        NA</td><td>        NA</td><td>       NA</td><td>Gm55050 </td></tr>\n",
              "\t<tr><td>ENSMUSG00002076983.1</td><td>0.0000000</td><td>        NA</td><td>       NA</td><td>        NA</td><td>        NA</td><td>       NA</td><td>Gm55949 </td></tr>\n",
              "\t<tr><td>ENSMUSG00002076984.1</td><td>0.0000000</td><td>        NA</td><td>       NA</td><td>        NA</td><td>        NA</td><td>       NA</td><td>Gm56260 </td></tr>\n",
              "\t<tr><td>ENSMUSG00002076985.1</td><td>0.0000000</td><td>        NA</td><td>       NA</td><td>        NA</td><td>        NA</td><td>       NA</td><td>Gm56355 </td></tr>\n",
              "\t<tr><td>ENSMUSG00002076986.1</td><td>0.0000000</td><td>        NA</td><td>       NA</td><td>        NA</td><td>        NA</td><td>       NA</td><td>Gm54430 </td></tr>\n",
              "\t<tr><td>ENSMUSG00002076987.1</td><td>0.0000000</td><td>        NA</td><td>       NA</td><td>        NA</td><td>        NA</td><td>       NA</td><td>Gm54490 </td></tr>\n",
              "\t<tr><td>ENSMUSG00002076988.1</td><td>0.0000000</td><td>        NA</td><td>       NA</td><td>        NA</td><td>        NA</td><td>       NA</td><td>Gm56371 </td></tr>\n",
              "\t<tr><td>ENSMUSG00002076989.1</td><td>0.0000000</td><td>        NA</td><td>       NA</td><td>        NA</td><td>        NA</td><td>       NA</td><td>Gm23510 </td></tr>\n",
              "\t<tr><td>ENSMUSG00002076990.1</td><td>0.0000000</td><td>        NA</td><td>       NA</td><td>        NA</td><td>        NA</td><td>       NA</td><td>Gm22711 </td></tr>\n",
              "\t<tr><td>ENSMUSG00002076991.1</td><td>0.0000000</td><td>        NA</td><td>       NA</td><td>        NA</td><td>        NA</td><td>       NA</td><td>Gm55627 </td></tr>\n",
              "\t<tr><td>ENSMUSG00002076992.1</td><td>0.0000000</td><td>        NA</td><td>       NA</td><td>        NA</td><td>        NA</td><td>       NA</td><td>Gm54807 </td></tr>\n",
              "</tbody>\n",
              "</table>\n"
            ],
            "text/markdown": "\nA data.frame: 56953 × 8\n\n| X &lt;chr&gt; | baseMean &lt;dbl&gt; | log2FoldChange &lt;dbl&gt; | lfcSE &lt;dbl&gt; | stat &lt;dbl&gt; | pvalue &lt;dbl&gt; | padj &lt;dbl&gt; | gene &lt;chr&gt; |\n|---|---|---|---|---|---|---|---|\n| ENSMUSG00000000001.5  |  153.6024296 | -0.97483661 | 0.1853814 | -5.25854573 | 1.451991e-07 | 2.237655e-06 | Gnai3    |\n| ENSMUSG00000000003.16 |    0.0000000 |          NA |        NA |          NA |           NA |           NA | Pbsn     |\n| ENSMUSG00000000028.16 |  139.9527038 | -0.26844660 | 0.1858378 | -1.44452120 | 1.485924e-01 | 3.404956e-01 | Cdc45    |\n| ENSMUSG00000000031.18 |    0.2852441 |  1.68098557 | 3.5729057 |  0.47048137 | 6.380111e-01 |           NA | H19      |\n| ENSMUSG00000000037.18 |  139.9601444 | -0.46508110 | 0.1952566 | -2.38189644 | 1.722374e-02 | 6.850861e-02 | Scml2    |\n| ENSMUSG00000000049.12 |    0.0000000 |          NA |        NA |          NA |           NA |           NA | Apoh     |\n| ENSMUSG00000000056.8  |    0.2988628 |  1.72335194 | 3.8741709 |  0.44483116 | 6.564418e-01 |           NA | Narf     |\n| ENSMUSG00000000058.7  | 1257.3483524 | -0.48136183 | 0.1184684 | -4.06320974 | 4.840250e-05 | 4.419613e-04 | Cav2     |\n| ENSMUSG00000000078.8  |    0.1715620 | -1.00981298 | 4.0804729 | -0.24747450 | 8.045410e-01 |           NA | Klf6     |\n| ENSMUSG00000000085.17 |    0.1358127 |  0.91374037 | 4.0804729 |  0.22393002 | 8.228118e-01 |           NA | Scmh1    |\n| ENSMUSG00000000088.8  |   13.0666250 | -0.04888990 | 0.5925950 | -0.08250136 | 9.342480e-01 | 9.706945e-01 | Cox5a    |\n| ENSMUSG00000000093.7  |    0.2101579 |  0.91374037 | 4.0804729 |  0.22393002 | 8.228118e-01 |           NA | Tbx2     |\n| ENSMUSG00000000094.13 |   17.1678972 | -0.40621463 | 0.4879813 | -0.83243892 | 4.051612e-01 | 6.389906e-01 | Tbx4     |\n| ENSMUSG00000000103.13 |    0.0000000 |          NA |        NA |          NA |           NA |           NA | Zfy2     |\n| ENSMUSG00000000120.7  |    5.8528885 | -0.60526160 | 0.8290121 | -0.73009982 | 4.653292e-01 | 6.916603e-01 | Ngfr     |\n| ENSMUSG00000000125.6  |   10.4190348 |  0.35642099 | 0.6164437 |  0.57818908 | 5.631365e-01 | 7.634821e-01 | Wnt3     |\n| ENSMUSG00000000126.12 |   56.0056265 | -0.04117141 | 0.2648967 | -0.15542441 | 8.764867e-01 | 9.457877e-01 | Wnt9a    |\n| ENSMUSG00000000127.16 |    6.1952346 | -0.49915728 | 0.7991391 | -0.62461874 | 5.322213e-01 | 7.435884e-01 | Fer      |\n| ENSMUSG00000000131.16 |  143.6013752 |  0.01830672 | 0.1799197 |  0.10174939 | 9.189556e-01 | 9.652725e-01 | Xpo6     |\n| ENSMUSG00000000134.18 |    0.3209934 | -0.04802911 | 3.4673043 | -0.01385200 | 9.889481e-01 |           NA | Tfe3     |\n| ENSMUSG00000000142.16 |    0.4954020 |  2.40914095 | 2.6824268 |  0.89811992 | 3.691216e-01 |           NA | Axin2    |\n| ENSMUSG00000000148.18 |   16.1765509 |  0.32434113 | 0.4808334 |  0.67453953 | 4.999684e-01 | 7.184910e-01 | Brat1    |\n| ENSMUSG00000000149.11 |   10.8225504 |  3.04024012 | 0.7459056 |  4.07590460 | 4.583581e-05 | 4.209333e-04 | Gna12    |\n| ENSMUSG00000000154.17 | 1317.0704368 | -0.75682244 | 0.1472448 | -5.13989400 | 2.748935e-07 | 3.996250e-06 | Slc22a18 |\n| ENSMUSG00000000157.17 |    4.2231240 | -1.02661621 | 0.9546978 | -1.07533111 | 2.822265e-01 | 5.190044e-01 | Itgb2l   |\n| ENSMUSG00000000159.17 |    0.5532819 | -0.96843896 | 2.8667760 | -0.33781466 | 7.355029e-01 |           NA | Igsf5    |\n| ENSMUSG00000000167.15 |    2.3626204 | -0.34130315 | 1.3223174 | -0.25810985 | 7.963221e-01 | 9.039902e-01 | Pih1d2   |\n| ENSMUSG00000000168.11 |    2.5588791 |  1.05400806 | 1.2162656 |  0.86659369 | 3.861647e-01 | 6.253590e-01 | Dlat     |\n| ENSMUSG00000000171.6  |    2.9816650 |  3.96976124 | 1.5300720 |  2.59449307 | 9.473052e-03 | 4.221578e-02 | Sdhd     |\n| ENSMUSG00000000182.10 |    0.0000000 |          NA |        NA |          NA |           NA |           NA | Fgf23    |\n| ⋮ | ⋮ | ⋮ | ⋮ | ⋮ | ⋮ | ⋮ | ⋮ |\n| ENSMUSG00002076963.1 | 0.1494314 |  0.9137404 | 4.0804729 |  0.2239300 | 0.82281176 |        NA | Gm54684  |\n| ENSMUSG00002076964.1 | 0.0000000 |         NA |        NA |         NA |         NA |        NA | Gm56413  |\n| ENSMUSG00002076965.1 | 0.0000000 |         NA |        NA |         NA |         NA |        NA | Gm55496  |\n| ENSMUSG00002076966.1 | 0.0000000 |         NA |        NA |         NA |         NA |        NA | Gm55592  |\n| ENSMUSG00002076967.1 | 0.0000000 |         NA |        NA |         NA |         NA |        NA | Gm54988  |\n| ENSMUSG00002076968.1 | 0.1494314 |  0.9137404 | 4.0804729 |  0.2239300 | 0.82281176 |        NA | Gm55853  |\n| ENSMUSG00002076969.1 | 0.0000000 |         NA |        NA |         NA |         NA |        NA | Gm55410  |\n| ENSMUSG00002076970.1 | 0.0000000 |         NA |        NA |         NA |         NA |        NA | Gm55939  |\n| ENSMUSG00002076971.1 | 0.0000000 |         NA |        NA |         NA |         NA |        NA | Snord100 |\n| ENSMUSG00002076972.1 | 0.0000000 |         NA |        NA |         NA |         NA |        NA | Gm55518  |\n| ENSMUSG00002076973.1 | 0.3314874 | -1.8922933 | 3.3807606 | -0.5597241 | 0.57566762 |        NA | Gm55343  |\n| ENSMUSG00002076974.1 | 0.1715620 | -1.0098130 | 4.0804729 | -0.2474745 | 0.80454102 |        NA | Gm54946  |\n| ENSMUSG00002076975.1 | 0.0000000 |         NA |        NA |         NA |         NA |        NA | Gm23823  |\n| ENSMUSG00002076976.1 | 5.7490963 |  1.7094051 | 0.8562685 |  1.9963422 | 0.04589668 | 0.1446279 | Gm55261  |\n| ENSMUSG00002076977.1 | 8.8984046 |  0.6046858 | 0.6471853 |  0.9343318 | 0.35013278 | 0.5912247 | Gm55834  |\n| ENSMUSG00002076978.1 | 0.0000000 |         NA |        NA |         NA |         NA |        NA | Gm54360  |\n| ENSMUSG00002076979.1 | 0.0000000 |         NA |        NA |         NA |         NA |        NA | Gm54358  |\n| ENSMUSG00002076980.1 | 0.0000000 |         NA |        NA |         NA |         NA |        NA | Gm55714  |\n| ENSMUSG00002076981.1 | 0.0000000 |         NA |        NA |         NA |         NA |        NA | Gm55773  |\n| ENSMUSG00002076982.1 | 0.0000000 |         NA |        NA |         NA |         NA |        NA | Gm55050  |\n| ENSMUSG00002076983.1 | 0.0000000 |         NA |        NA |         NA |         NA |        NA | Gm55949  |\n| ENSMUSG00002076984.1 | 0.0000000 |         NA |        NA |         NA |         NA |        NA | Gm56260  |\n| ENSMUSG00002076985.1 | 0.0000000 |         NA |        NA |         NA |         NA |        NA | Gm56355  |\n| ENSMUSG00002076986.1 | 0.0000000 |         NA |        NA |         NA |         NA |        NA | Gm54430  |\n| ENSMUSG00002076987.1 | 0.0000000 |         NA |        NA |         NA |         NA |        NA | Gm54490  |\n| ENSMUSG00002076988.1 | 0.0000000 |         NA |        NA |         NA |         NA |        NA | Gm56371  |\n| ENSMUSG00002076989.1 | 0.0000000 |         NA |        NA |         NA |         NA |        NA | Gm23510  |\n| ENSMUSG00002076990.1 | 0.0000000 |         NA |        NA |         NA |         NA |        NA | Gm22711  |\n| ENSMUSG00002076991.1 | 0.0000000 |         NA |        NA |         NA |         NA |        NA | Gm55627  |\n| ENSMUSG00002076992.1 | 0.0000000 |         NA |        NA |         NA |         NA |        NA | Gm54807  |\n\n",
            "text/latex": "A data.frame: 56953 × 8\n\\begin{tabular}{llllllll}\n X & baseMean & log2FoldChange & lfcSE & stat & pvalue & padj & gene\\\\\n <chr> & <dbl> & <dbl> & <dbl> & <dbl> & <dbl> & <dbl> & <chr>\\\\\n\\hline\n\t ENSMUSG00000000001.5  &  153.6024296 & -0.97483661 & 0.1853814 & -5.25854573 & 1.451991e-07 & 2.237655e-06 & Gnai3   \\\\\n\t ENSMUSG00000000003.16 &    0.0000000 &          NA &        NA &          NA &           NA &           NA & Pbsn    \\\\\n\t ENSMUSG00000000028.16 &  139.9527038 & -0.26844660 & 0.1858378 & -1.44452120 & 1.485924e-01 & 3.404956e-01 & Cdc45   \\\\\n\t ENSMUSG00000000031.18 &    0.2852441 &  1.68098557 & 3.5729057 &  0.47048137 & 6.380111e-01 &           NA & H19     \\\\\n\t ENSMUSG00000000037.18 &  139.9601444 & -0.46508110 & 0.1952566 & -2.38189644 & 1.722374e-02 & 6.850861e-02 & Scml2   \\\\\n\t ENSMUSG00000000049.12 &    0.0000000 &          NA &        NA &          NA &           NA &           NA & Apoh    \\\\\n\t ENSMUSG00000000056.8  &    0.2988628 &  1.72335194 & 3.8741709 &  0.44483116 & 6.564418e-01 &           NA & Narf    \\\\\n\t ENSMUSG00000000058.7  & 1257.3483524 & -0.48136183 & 0.1184684 & -4.06320974 & 4.840250e-05 & 4.419613e-04 & Cav2    \\\\\n\t ENSMUSG00000000078.8  &    0.1715620 & -1.00981298 & 4.0804729 & -0.24747450 & 8.045410e-01 &           NA & Klf6    \\\\\n\t ENSMUSG00000000085.17 &    0.1358127 &  0.91374037 & 4.0804729 &  0.22393002 & 8.228118e-01 &           NA & Scmh1   \\\\\n\t ENSMUSG00000000088.8  &   13.0666250 & -0.04888990 & 0.5925950 & -0.08250136 & 9.342480e-01 & 9.706945e-01 & Cox5a   \\\\\n\t ENSMUSG00000000093.7  &    0.2101579 &  0.91374037 & 4.0804729 &  0.22393002 & 8.228118e-01 &           NA & Tbx2    \\\\\n\t ENSMUSG00000000094.13 &   17.1678972 & -0.40621463 & 0.4879813 & -0.83243892 & 4.051612e-01 & 6.389906e-01 & Tbx4    \\\\\n\t ENSMUSG00000000103.13 &    0.0000000 &          NA &        NA &          NA &           NA &           NA & Zfy2    \\\\\n\t ENSMUSG00000000120.7  &    5.8528885 & -0.60526160 & 0.8290121 & -0.73009982 & 4.653292e-01 & 6.916603e-01 & Ngfr    \\\\\n\t ENSMUSG00000000125.6  &   10.4190348 &  0.35642099 & 0.6164437 &  0.57818908 & 5.631365e-01 & 7.634821e-01 & Wnt3    \\\\\n\t ENSMUSG00000000126.12 &   56.0056265 & -0.04117141 & 0.2648967 & -0.15542441 & 8.764867e-01 & 9.457877e-01 & Wnt9a   \\\\\n\t ENSMUSG00000000127.16 &    6.1952346 & -0.49915728 & 0.7991391 & -0.62461874 & 5.322213e-01 & 7.435884e-01 & Fer     \\\\\n\t ENSMUSG00000000131.16 &  143.6013752 &  0.01830672 & 0.1799197 &  0.10174939 & 9.189556e-01 & 9.652725e-01 & Xpo6    \\\\\n\t ENSMUSG00000000134.18 &    0.3209934 & -0.04802911 & 3.4673043 & -0.01385200 & 9.889481e-01 &           NA & Tfe3    \\\\\n\t ENSMUSG00000000142.16 &    0.4954020 &  2.40914095 & 2.6824268 &  0.89811992 & 3.691216e-01 &           NA & Axin2   \\\\\n\t ENSMUSG00000000148.18 &   16.1765509 &  0.32434113 & 0.4808334 &  0.67453953 & 4.999684e-01 & 7.184910e-01 & Brat1   \\\\\n\t ENSMUSG00000000149.11 &   10.8225504 &  3.04024012 & 0.7459056 &  4.07590460 & 4.583581e-05 & 4.209333e-04 & Gna12   \\\\\n\t ENSMUSG00000000154.17 & 1317.0704368 & -0.75682244 & 0.1472448 & -5.13989400 & 2.748935e-07 & 3.996250e-06 & Slc22a18\\\\\n\t ENSMUSG00000000157.17 &    4.2231240 & -1.02661621 & 0.9546978 & -1.07533111 & 2.822265e-01 & 5.190044e-01 & Itgb2l  \\\\\n\t ENSMUSG00000000159.17 &    0.5532819 & -0.96843896 & 2.8667760 & -0.33781466 & 7.355029e-01 &           NA & Igsf5   \\\\\n\t ENSMUSG00000000167.15 &    2.3626204 & -0.34130315 & 1.3223174 & -0.25810985 & 7.963221e-01 & 9.039902e-01 & Pih1d2  \\\\\n\t ENSMUSG00000000168.11 &    2.5588791 &  1.05400806 & 1.2162656 &  0.86659369 & 3.861647e-01 & 6.253590e-01 & Dlat    \\\\\n\t ENSMUSG00000000171.6  &    2.9816650 &  3.96976124 & 1.5300720 &  2.59449307 & 9.473052e-03 & 4.221578e-02 & Sdhd    \\\\\n\t ENSMUSG00000000182.10 &    0.0000000 &          NA &        NA &          NA &           NA &           NA & Fgf23   \\\\\n\t ⋮ & ⋮ & ⋮ & ⋮ & ⋮ & ⋮ & ⋮ & ⋮\\\\\n\t ENSMUSG00002076963.1 & 0.1494314 &  0.9137404 & 4.0804729 &  0.2239300 & 0.82281176 &        NA & Gm54684 \\\\\n\t ENSMUSG00002076964.1 & 0.0000000 &         NA &        NA &         NA &         NA &        NA & Gm56413 \\\\\n\t ENSMUSG00002076965.1 & 0.0000000 &         NA &        NA &         NA &         NA &        NA & Gm55496 \\\\\n\t ENSMUSG00002076966.1 & 0.0000000 &         NA &        NA &         NA &         NA &        NA & Gm55592 \\\\\n\t ENSMUSG00002076967.1 & 0.0000000 &         NA &        NA &         NA &         NA &        NA & Gm54988 \\\\\n\t ENSMUSG00002076968.1 & 0.1494314 &  0.9137404 & 4.0804729 &  0.2239300 & 0.82281176 &        NA & Gm55853 \\\\\n\t ENSMUSG00002076969.1 & 0.0000000 &         NA &        NA &         NA &         NA &        NA & Gm55410 \\\\\n\t ENSMUSG00002076970.1 & 0.0000000 &         NA &        NA &         NA &         NA &        NA & Gm55939 \\\\\n\t ENSMUSG00002076971.1 & 0.0000000 &         NA &        NA &         NA &         NA &        NA & Snord100\\\\\n\t ENSMUSG00002076972.1 & 0.0000000 &         NA &        NA &         NA &         NA &        NA & Gm55518 \\\\\n\t ENSMUSG00002076973.1 & 0.3314874 & -1.8922933 & 3.3807606 & -0.5597241 & 0.57566762 &        NA & Gm55343 \\\\\n\t ENSMUSG00002076974.1 & 0.1715620 & -1.0098130 & 4.0804729 & -0.2474745 & 0.80454102 &        NA & Gm54946 \\\\\n\t ENSMUSG00002076975.1 & 0.0000000 &         NA &        NA &         NA &         NA &        NA & Gm23823 \\\\\n\t ENSMUSG00002076976.1 & 5.7490963 &  1.7094051 & 0.8562685 &  1.9963422 & 0.04589668 & 0.1446279 & Gm55261 \\\\\n\t ENSMUSG00002076977.1 & 8.8984046 &  0.6046858 & 0.6471853 &  0.9343318 & 0.35013278 & 0.5912247 & Gm55834 \\\\\n\t ENSMUSG00002076978.1 & 0.0000000 &         NA &        NA &         NA &         NA &        NA & Gm54360 \\\\\n\t ENSMUSG00002076979.1 & 0.0000000 &         NA &        NA &         NA &         NA &        NA & Gm54358 \\\\\n\t ENSMUSG00002076980.1 & 0.0000000 &         NA &        NA &         NA &         NA &        NA & Gm55714 \\\\\n\t ENSMUSG00002076981.1 & 0.0000000 &         NA &        NA &         NA &         NA &        NA & Gm55773 \\\\\n\t ENSMUSG00002076982.1 & 0.0000000 &         NA &        NA &         NA &         NA &        NA & Gm55050 \\\\\n\t ENSMUSG00002076983.1 & 0.0000000 &         NA &        NA &         NA &         NA &        NA & Gm55949 \\\\\n\t ENSMUSG00002076984.1 & 0.0000000 &         NA &        NA &         NA &         NA &        NA & Gm56260 \\\\\n\t ENSMUSG00002076985.1 & 0.0000000 &         NA &        NA &         NA &         NA &        NA & Gm56355 \\\\\n\t ENSMUSG00002076986.1 & 0.0000000 &         NA &        NA &         NA &         NA &        NA & Gm54430 \\\\\n\t ENSMUSG00002076987.1 & 0.0000000 &         NA &        NA &         NA &         NA &        NA & Gm54490 \\\\\n\t ENSMUSG00002076988.1 & 0.0000000 &         NA &        NA &         NA &         NA &        NA & Gm56371 \\\\\n\t ENSMUSG00002076989.1 & 0.0000000 &         NA &        NA &         NA &         NA &        NA & Gm23510 \\\\\n\t ENSMUSG00002076990.1 & 0.0000000 &         NA &        NA &         NA &         NA &        NA & Gm22711 \\\\\n\t ENSMUSG00002076991.1 & 0.0000000 &         NA &        NA &         NA &         NA &        NA & Gm55627 \\\\\n\t ENSMUSG00002076992.1 & 0.0000000 &         NA &        NA &         NA &         NA &        NA & Gm54807 \\\\\n\\end{tabular}\n",
            "text/plain": [
              "      X                     baseMean     log2FoldChange lfcSE     stat       \n",
              "1     ENSMUSG00000000001.5   153.6024296 -0.97483661    0.1853814 -5.25854573\n",
              "2     ENSMUSG00000000003.16    0.0000000          NA           NA          NA\n",
              "3     ENSMUSG00000000028.16  139.9527038 -0.26844660    0.1858378 -1.44452120\n",
              "4     ENSMUSG00000000031.18    0.2852441  1.68098557    3.5729057  0.47048137\n",
              "5     ENSMUSG00000000037.18  139.9601444 -0.46508110    0.1952566 -2.38189644\n",
              "6     ENSMUSG00000000049.12    0.0000000          NA           NA          NA\n",
              "7     ENSMUSG00000000056.8     0.2988628  1.72335194    3.8741709  0.44483116\n",
              "8     ENSMUSG00000000058.7  1257.3483524 -0.48136183    0.1184684 -4.06320974\n",
              "9     ENSMUSG00000000078.8     0.1715620 -1.00981298    4.0804729 -0.24747450\n",
              "10    ENSMUSG00000000085.17    0.1358127  0.91374037    4.0804729  0.22393002\n",
              "11    ENSMUSG00000000088.8    13.0666250 -0.04888990    0.5925950 -0.08250136\n",
              "12    ENSMUSG00000000093.7     0.2101579  0.91374037    4.0804729  0.22393002\n",
              "13    ENSMUSG00000000094.13   17.1678972 -0.40621463    0.4879813 -0.83243892\n",
              "14    ENSMUSG00000000103.13    0.0000000          NA           NA          NA\n",
              "15    ENSMUSG00000000120.7     5.8528885 -0.60526160    0.8290121 -0.73009982\n",
              "16    ENSMUSG00000000125.6    10.4190348  0.35642099    0.6164437  0.57818908\n",
              "17    ENSMUSG00000000126.12   56.0056265 -0.04117141    0.2648967 -0.15542441\n",
              "18    ENSMUSG00000000127.16    6.1952346 -0.49915728    0.7991391 -0.62461874\n",
              "19    ENSMUSG00000000131.16  143.6013752  0.01830672    0.1799197  0.10174939\n",
              "20    ENSMUSG00000000134.18    0.3209934 -0.04802911    3.4673043 -0.01385200\n",
              "21    ENSMUSG00000000142.16    0.4954020  2.40914095    2.6824268  0.89811992\n",
              "22    ENSMUSG00000000148.18   16.1765509  0.32434113    0.4808334  0.67453953\n",
              "23    ENSMUSG00000000149.11   10.8225504  3.04024012    0.7459056  4.07590460\n",
              "24    ENSMUSG00000000154.17 1317.0704368 -0.75682244    0.1472448 -5.13989400\n",
              "25    ENSMUSG00000000157.17    4.2231240 -1.02661621    0.9546978 -1.07533111\n",
              "26    ENSMUSG00000000159.17    0.5532819 -0.96843896    2.8667760 -0.33781466\n",
              "27    ENSMUSG00000000167.15    2.3626204 -0.34130315    1.3223174 -0.25810985\n",
              "28    ENSMUSG00000000168.11    2.5588791  1.05400806    1.2162656  0.86659369\n",
              "29    ENSMUSG00000000171.6     2.9816650  3.96976124    1.5300720  2.59449307\n",
              "30    ENSMUSG00000000182.10    0.0000000          NA           NA          NA\n",
              "⋮     ⋮                     ⋮            ⋮              ⋮         ⋮          \n",
              "56924 ENSMUSG00002076963.1  0.1494314     0.9137404     4.0804729  0.2239300 \n",
              "56925 ENSMUSG00002076964.1  0.0000000            NA            NA         NA \n",
              "56926 ENSMUSG00002076965.1  0.0000000            NA            NA         NA \n",
              "56927 ENSMUSG00002076966.1  0.0000000            NA            NA         NA \n",
              "56928 ENSMUSG00002076967.1  0.0000000            NA            NA         NA \n",
              "56929 ENSMUSG00002076968.1  0.1494314     0.9137404     4.0804729  0.2239300 \n",
              "56930 ENSMUSG00002076969.1  0.0000000            NA            NA         NA \n",
              "56931 ENSMUSG00002076970.1  0.0000000            NA            NA         NA \n",
              "56932 ENSMUSG00002076971.1  0.0000000            NA            NA         NA \n",
              "56933 ENSMUSG00002076972.1  0.0000000            NA            NA         NA \n",
              "56934 ENSMUSG00002076973.1  0.3314874    -1.8922933     3.3807606 -0.5597241 \n",
              "56935 ENSMUSG00002076974.1  0.1715620    -1.0098130     4.0804729 -0.2474745 \n",
              "56936 ENSMUSG00002076975.1  0.0000000            NA            NA         NA \n",
              "56937 ENSMUSG00002076976.1  5.7490963     1.7094051     0.8562685  1.9963422 \n",
              "56938 ENSMUSG00002076977.1  8.8984046     0.6046858     0.6471853  0.9343318 \n",
              "56939 ENSMUSG00002076978.1  0.0000000            NA            NA         NA \n",
              "56940 ENSMUSG00002076979.1  0.0000000            NA            NA         NA \n",
              "56941 ENSMUSG00002076980.1  0.0000000            NA            NA         NA \n",
              "56942 ENSMUSG00002076981.1  0.0000000            NA            NA         NA \n",
              "56943 ENSMUSG00002076982.1  0.0000000            NA            NA         NA \n",
              "56944 ENSMUSG00002076983.1  0.0000000            NA            NA         NA \n",
              "56945 ENSMUSG00002076984.1  0.0000000            NA            NA         NA \n",
              "56946 ENSMUSG00002076985.1  0.0000000            NA            NA         NA \n",
              "56947 ENSMUSG00002076986.1  0.0000000            NA            NA         NA \n",
              "56948 ENSMUSG00002076987.1  0.0000000            NA            NA         NA \n",
              "56949 ENSMUSG00002076988.1  0.0000000            NA            NA         NA \n",
              "56950 ENSMUSG00002076989.1  0.0000000            NA            NA         NA \n",
              "56951 ENSMUSG00002076990.1  0.0000000            NA            NA         NA \n",
              "56952 ENSMUSG00002076991.1  0.0000000            NA            NA         NA \n",
              "56953 ENSMUSG00002076992.1  0.0000000            NA            NA         NA \n",
              "      pvalue       padj         gene    \n",
              "1     1.451991e-07 2.237655e-06 Gnai3   \n",
              "2               NA           NA Pbsn    \n",
              "3     1.485924e-01 3.404956e-01 Cdc45   \n",
              "4     6.380111e-01           NA H19     \n",
              "5     1.722374e-02 6.850861e-02 Scml2   \n",
              "6               NA           NA Apoh    \n",
              "7     6.564418e-01           NA Narf    \n",
              "8     4.840250e-05 4.419613e-04 Cav2    \n",
              "9     8.045410e-01           NA Klf6    \n",
              "10    8.228118e-01           NA Scmh1   \n",
              "11    9.342480e-01 9.706945e-01 Cox5a   \n",
              "12    8.228118e-01           NA Tbx2    \n",
              "13    4.051612e-01 6.389906e-01 Tbx4    \n",
              "14              NA           NA Zfy2    \n",
              "15    4.653292e-01 6.916603e-01 Ngfr    \n",
              "16    5.631365e-01 7.634821e-01 Wnt3    \n",
              "17    8.764867e-01 9.457877e-01 Wnt9a   \n",
              "18    5.322213e-01 7.435884e-01 Fer     \n",
              "19    9.189556e-01 9.652725e-01 Xpo6    \n",
              "20    9.889481e-01           NA Tfe3    \n",
              "21    3.691216e-01           NA Axin2   \n",
              "22    4.999684e-01 7.184910e-01 Brat1   \n",
              "23    4.583581e-05 4.209333e-04 Gna12   \n",
              "24    2.748935e-07 3.996250e-06 Slc22a18\n",
              "25    2.822265e-01 5.190044e-01 Itgb2l  \n",
              "26    7.355029e-01           NA Igsf5   \n",
              "27    7.963221e-01 9.039902e-01 Pih1d2  \n",
              "28    3.861647e-01 6.253590e-01 Dlat    \n",
              "29    9.473052e-03 4.221578e-02 Sdhd    \n",
              "30              NA           NA Fgf23   \n",
              "⋮     ⋮            ⋮            ⋮       \n",
              "56924 0.82281176          NA    Gm54684 \n",
              "56925         NA          NA    Gm56413 \n",
              "56926         NA          NA    Gm55496 \n",
              "56927         NA          NA    Gm55592 \n",
              "56928         NA          NA    Gm54988 \n",
              "56929 0.82281176          NA    Gm55853 \n",
              "56930         NA          NA    Gm55410 \n",
              "56931         NA          NA    Gm55939 \n",
              "56932         NA          NA    Snord100\n",
              "56933         NA          NA    Gm55518 \n",
              "56934 0.57566762          NA    Gm55343 \n",
              "56935 0.80454102          NA    Gm54946 \n",
              "56936         NA          NA    Gm23823 \n",
              "56937 0.04589668   0.1446279    Gm55261 \n",
              "56938 0.35013278   0.5912247    Gm55834 \n",
              "56939         NA          NA    Gm54360 \n",
              "56940         NA          NA    Gm54358 \n",
              "56941         NA          NA    Gm55714 \n",
              "56942         NA          NA    Gm55773 \n",
              "56943         NA          NA    Gm55050 \n",
              "56944         NA          NA    Gm55949 \n",
              "56945         NA          NA    Gm56260 \n",
              "56946         NA          NA    Gm56355 \n",
              "56947         NA          NA    Gm54430 \n",
              "56948         NA          NA    Gm54490 \n",
              "56949         NA          NA    Gm56371 \n",
              "56950         NA          NA    Gm23510 \n",
              "56951         NA          NA    Gm22711 \n",
              "56952         NA          NA    Gm55627 \n",
              "56953         NA          NA    Gm54807 "
            ]
          },
          "metadata": {}
        }
      ]
    },
    {
      "cell_type": "code",
      "source": [
        "deseq2_results$wald_stat <- deseq2_results$log2FoldChange / deseq2_results$lfcSE\n",
        "deseq2_results <- na.omit(deseq2_results)\n",
        "finite_idx <- is.finite(deseq2_results$wald_stat)\n",
        "deseq2_results <- deseq2_results[finite_idx, ]"
      ],
      "metadata": {
        "id": "kaMF8ENFJbFX"
      },
      "execution_count": 146,
      "outputs": []
    },
    {
      "cell_type": "code",
      "source": [
        "deseq2_results"
      ],
      "metadata": {
        "colab": {
          "base_uri": "https://localhost:8080/",
          "height": 1000
        },
        "id": "-5LLS9c-h7V_",
        "outputId": "e17704f6-2ea1-46eb-de91-ec11a2524451"
      },
      "execution_count": 175,
      "outputs": [
        {
          "output_type": "display_data",
          "data": {
            "text/html": [
              "<table class=\"dataframe\">\n",
              "<caption>A data.frame: 14363 × 9</caption>\n",
              "<thead>\n",
              "\t<tr><th></th><th scope=col>X</th><th scope=col>baseMean</th><th scope=col>log2FoldChange</th><th scope=col>lfcSE</th><th scope=col>stat</th><th scope=col>pvalue</th><th scope=col>padj</th><th scope=col>gene</th><th scope=col>wald_stat</th></tr>\n",
              "\t<tr><th></th><th scope=col>&lt;chr&gt;</th><th scope=col>&lt;dbl&gt;</th><th scope=col>&lt;dbl&gt;</th><th scope=col>&lt;dbl&gt;</th><th scope=col>&lt;dbl&gt;</th><th scope=col>&lt;dbl&gt;</th><th scope=col>&lt;dbl&gt;</th><th scope=col>&lt;chr&gt;</th><th scope=col>&lt;dbl&gt;</th></tr>\n",
              "</thead>\n",
              "<tbody>\n",
              "\t<tr><th scope=row>1</th><td>ENSMUSG00000000001.5 </td><td> 153.602430</td><td>-0.97483661</td><td>0.18538141</td><td> -5.25854573</td><td>1.451991e-07</td><td>2.237655e-06</td><td>Gnai3   </td><td> -5.25854573</td></tr>\n",
              "\t<tr><th scope=row>3</th><td>ENSMUSG00000000028.16</td><td> 139.952704</td><td>-0.26844660</td><td>0.18583777</td><td> -1.44452120</td><td>1.485924e-01</td><td>3.404956e-01</td><td>Cdc45   </td><td> -1.44452120</td></tr>\n",
              "\t<tr><th scope=row>5</th><td>ENSMUSG00000000037.18</td><td> 139.960144</td><td>-0.46508110</td><td>0.19525664</td><td> -2.38189644</td><td>1.722374e-02</td><td>6.850861e-02</td><td>Scml2   </td><td> -2.38189644</td></tr>\n",
              "\t<tr><th scope=row>8</th><td>ENSMUSG00000000058.7 </td><td>1257.348352</td><td>-0.48136183</td><td>0.11846837</td><td> -4.06320974</td><td>4.840250e-05</td><td>4.419613e-04</td><td>Cav2    </td><td> -4.06320974</td></tr>\n",
              "\t<tr><th scope=row>11</th><td>ENSMUSG00000000088.8 </td><td>  13.066625</td><td>-0.04888990</td><td>0.59259504</td><td> -0.08250136</td><td>9.342480e-01</td><td>9.706945e-01</td><td>Cox5a   </td><td> -0.08250136</td></tr>\n",
              "\t<tr><th scope=row>13</th><td>ENSMUSG00000000094.13</td><td>  17.167897</td><td>-0.40621463</td><td>0.48798130</td><td> -0.83243892</td><td>4.051612e-01</td><td>6.389906e-01</td><td>Tbx4    </td><td> -0.83243892</td></tr>\n",
              "\t<tr><th scope=row>15</th><td>ENSMUSG00000000120.7 </td><td>   5.852888</td><td>-0.60526160</td><td>0.82901213</td><td> -0.73009982</td><td>4.653292e-01</td><td>6.916603e-01</td><td>Ngfr    </td><td> -0.73009982</td></tr>\n",
              "\t<tr><th scope=row>16</th><td>ENSMUSG00000000125.6 </td><td>  10.419035</td><td> 0.35642099</td><td>0.61644365</td><td>  0.57818908</td><td>5.631365e-01</td><td>7.634821e-01</td><td>Wnt3    </td><td>  0.57818908</td></tr>\n",
              "\t<tr><th scope=row>17</th><td>ENSMUSG00000000126.12</td><td>  56.005626</td><td>-0.04117141</td><td>0.26489670</td><td> -0.15542441</td><td>8.764867e-01</td><td>9.457877e-01</td><td>Wnt9a   </td><td> -0.15542441</td></tr>\n",
              "\t<tr><th scope=row>18</th><td>ENSMUSG00000000127.16</td><td>   6.195235</td><td>-0.49915728</td><td>0.79913913</td><td> -0.62461874</td><td>5.322213e-01</td><td>7.435884e-01</td><td>Fer     </td><td> -0.62461874</td></tr>\n",
              "\t<tr><th scope=row>19</th><td>ENSMUSG00000000131.16</td><td> 143.601375</td><td> 0.01830672</td><td>0.17991970</td><td>  0.10174939</td><td>9.189556e-01</td><td>9.652725e-01</td><td>Xpo6    </td><td>  0.10174939</td></tr>\n",
              "\t<tr><th scope=row>22</th><td>ENSMUSG00000000148.18</td><td>  16.176551</td><td> 0.32434113</td><td>0.48083340</td><td>  0.67453953</td><td>4.999684e-01</td><td>7.184910e-01</td><td>Brat1   </td><td>  0.67453953</td></tr>\n",
              "\t<tr><th scope=row>23</th><td>ENSMUSG00000000149.11</td><td>  10.822550</td><td> 3.04024012</td><td>0.74590561</td><td>  4.07590460</td><td>4.583581e-05</td><td>4.209333e-04</td><td>Gna12   </td><td>  4.07590460</td></tr>\n",
              "\t<tr><th scope=row>24</th><td>ENSMUSG00000000154.17</td><td>1317.070437</td><td>-0.75682244</td><td>0.14724476</td><td> -5.13989400</td><td>2.748935e-07</td><td>3.996250e-06</td><td>Slc22a18</td><td> -5.13989400</td></tr>\n",
              "\t<tr><th scope=row>25</th><td>ENSMUSG00000000157.17</td><td>   4.223124</td><td>-1.02661621</td><td>0.95469777</td><td> -1.07533111</td><td>2.822265e-01</td><td>5.190044e-01</td><td>Itgb2l  </td><td> -1.07533111</td></tr>\n",
              "\t<tr><th scope=row>27</th><td>ENSMUSG00000000167.15</td><td>   2.362620</td><td>-0.34130315</td><td>1.32231744</td><td> -0.25810985</td><td>7.963221e-01</td><td>9.039902e-01</td><td>Pih1d2  </td><td> -0.25810985</td></tr>\n",
              "\t<tr><th scope=row>28</th><td>ENSMUSG00000000168.11</td><td>   2.558879</td><td> 1.05400806</td><td>1.21626557</td><td>  0.86659369</td><td>3.861647e-01</td><td>6.253590e-01</td><td>Dlat    </td><td>  0.86659369</td></tr>\n",
              "\t<tr><th scope=row>29</th><td>ENSMUSG00000000171.6 </td><td>   2.981665</td><td> 3.96976124</td><td>1.53007201</td><td>  2.59449307</td><td>9.473052e-03</td><td>4.221578e-02</td><td>Sdhd    </td><td>  2.59449307</td></tr>\n",
              "\t<tr><th scope=row>32</th><td>ENSMUSG00000000184.13</td><td>9969.315559</td><td>-0.93151833</td><td>0.06993348</td><td>-13.32006336</td><td>1.769573e-40</td><td>3.630910e-38</td><td>Ccnd2   </td><td>-13.32006336</td></tr>\n",
              "\t<tr><th scope=row>33</th><td>ENSMUSG00000000194.14</td><td> 172.668334</td><td> 0.06599383</td><td>0.16662294</td><td>  0.39606688</td><td>6.920557e-01</td><td>8.443044e-01</td><td>Gpr107  </td><td>  0.39606688</td></tr>\n",
              "\t<tr><th scope=row>36</th><td>ENSMUSG00000000204.17</td><td>   3.918691</td><td>-2.27509144</td><td>1.13126902</td><td> -2.01109674</td><td>4.431524e-02</td><td>1.408809e-01</td><td>Slfn4   </td><td> -2.01109674</td></tr>\n",
              "\t<tr><th scope=row>37</th><td>ENSMUSG00000000214.12</td><td> 151.946737</td><td> 0.98586937</td><td>0.17939772</td><td>  5.49543992</td><td>3.897376e-08</td><td>6.664049e-07</td><td>Th      </td><td>  5.49543992</td></tr>\n",
              "\t<tr><th scope=row>42</th><td>ENSMUSG00000000247.12</td><td>   7.765039</td><td> 0.05742124</td><td>0.70715918</td><td>  0.08119988</td><td>9.352830e-01</td><td>9.712124e-01</td><td>Lhx2    </td><td>  0.08119988</td></tr>\n",
              "\t<tr><th scope=row>43</th><td>ENSMUSG00000000248.17</td><td>  36.259776</td><td>-1.33432644</td><td>0.37100450</td><td> -3.59652362</td><td>3.224983e-04</td><td>2.369332e-03</td><td>Clec2g  </td><td> -3.59652362</td></tr>\n",
              "\t<tr><th scope=row>45</th><td>ENSMUSG00000000263.16</td><td>5212.943070</td><td>-0.92660075</td><td>0.26151611</td><td> -3.54318807</td><td>3.953207e-04</td><td>2.843282e-03</td><td>Glra1   </td><td> -3.54318807</td></tr>\n",
              "\t<tr><th scope=row>46</th><td>ENSMUSG00000000266.12</td><td>  46.645045</td><td>-0.28696109</td><td>0.30063603</td><td> -0.95451329</td><td>3.398239e-01</td><td>5.797471e-01</td><td>Mid2    </td><td> -0.95451329</td></tr>\n",
              "\t<tr><th scope=row>48</th><td>ENSMUSG00000000276.12</td><td>1446.590710</td><td>-1.38779036</td><td>0.09715794</td><td>-14.28385942</td><td>2.758895e-46</td><td>7.769805e-44</td><td>Dgke    </td><td>-14.28385942</td></tr>\n",
              "\t<tr><th scope=row>49</th><td>ENSMUSG00000000278.11</td><td>  63.720129</td><td> 0.23690369</td><td>0.25735133</td><td>  0.92054581</td><td>3.572876e-01</td><td>5.974065e-01</td><td>Scpep1  </td><td>  0.92054581</td></tr>\n",
              "\t<tr><th scope=row>54</th><td>ENSMUSG00000000301.17</td><td>  24.331623</td><td>-0.43014668</td><td>0.39236121</td><td> -1.09630277</td><td>2.729463e-01</td><td>5.076829e-01</td><td>Pemt    </td><td> -1.09630277</td></tr>\n",
              "\t<tr><th scope=row>55</th><td>ENSMUSG00000000303.13</td><td> 492.437521</td><td>-1.02969955</td><td>0.12122956</td><td> -8.49379939</td><td>1.999894e-17</td><td>1.014999e-15</td><td>Cdh1    </td><td> -8.49379939</td></tr>\n",
              "\t<tr><th scope=row>⋮</th><td>⋮</td><td>⋮</td><td>⋮</td><td>⋮</td><td>⋮</td><td>⋮</td><td>⋮</td><td>⋮</td><td>⋮</td></tr>\n",
              "\t<tr><th scope=row>56172</th><td>ENSMUSG00002076210.1</td><td> 50.777320</td><td> 1.06019382</td><td>0.2821888</td><td> 3.75703734</td><td>1.719368e-04</td><td>1.356139e-03</td><td>Gm56099</td><td> 3.75703734</td></tr>\n",
              "\t<tr><th scope=row>56195</th><td>ENSMUSG00002076233.1</td><td> 23.691842</td><td> 0.32397237</td><td>0.3982347</td><td> 0.81352119</td><td>4.159193e-01</td><td>6.484647e-01</td><td>Gm55925</td><td> 0.81352119</td></tr>\n",
              "\t<tr><th scope=row>56231</th><td>ENSMUSG00002076269.1</td><td>245.126531</td><td>-0.76177674</td><td>0.1441230</td><td>-5.28559969</td><td>1.252936e-07</td><td>1.951835e-06</td><td>Gm56241</td><td>-5.28559969</td></tr>\n",
              "\t<tr><th scope=row>56270</th><td>ENSMUSG00002076308.1</td><td> 44.743193</td><td>-0.59080670</td><td>0.3069550</td><td>-1.92473384</td><td>5.426266e-02</td><td>1.644270e-01</td><td>Gm55625</td><td>-1.92473384</td></tr>\n",
              "\t<tr><th scope=row>56285</th><td>ENSMUSG00002076323.1</td><td> 15.513804</td><td>-0.33799158</td><td>0.4889403</td><td>-0.69127370</td><td>4.893936e-01</td><td>7.110313e-01</td><td>Gm56075</td><td>-0.69127370</td></tr>\n",
              "\t<tr><th scope=row>56302</th><td>ENSMUSG00002076340.1</td><td>  1.922558</td><td>-0.10775166</td><td>1.3332955</td><td>-0.08081604</td><td>9.355883e-01</td><td>9.712239e-01</td><td>Gm55442</td><td>-0.08081604</td></tr>\n",
              "\t<tr><th scope=row>56327</th><td>ENSMUSG00002076365.1</td><td>217.710403</td><td>-0.80951680</td><td>0.1509477</td><td>-5.36289427</td><td>8.189895e-08</td><td>1.315788e-06</td><td>Gm26133</td><td>-5.36289427</td></tr>\n",
              "\t<tr><th scope=row>56388</th><td>ENSMUSG00002076426.1</td><td>  7.622045</td><td> 1.29765597</td><td>0.8050769</td><td> 1.61184108</td><td>1.069965e-01</td><td>2.708002e-01</td><td>Gm55963</td><td> 1.61184108</td></tr>\n",
              "\t<tr><th scope=row>56410</th><td>ENSMUSG00002076448.1</td><td> 42.439697</td><td>-0.04549819</td><td>0.3199231</td><td>-0.14221600</td><td>8.869094e-01</td><td>9.500142e-01</td><td>Gm55071</td><td>-0.14221600</td></tr>\n",
              "\t<tr><th scope=row>56427</th><td>ENSMUSG00002076465.1</td><td>  6.420129</td><td>-0.68854731</td><td>0.8272583</td><td>-0.83232445</td><td>4.052258e-01</td><td>6.389906e-01</td><td>Gm54934</td><td>-0.83232445</td></tr>\n",
              "\t<tr><th scope=row>56466</th><td>ENSMUSG00002076504.1</td><td>  5.017922</td><td>-1.90581987</td><td>0.9510641</td><td>-2.00388162</td><td>4.508274e-02</td><td>1.428466e-01</td><td>Gm56224</td><td>-2.00388162</td></tr>\n",
              "\t<tr><th scope=row>56541</th><td>ENSMUSG00002076579.1</td><td> 36.310886</td><td>-0.53778807</td><td>0.3614495</td><td>-1.48786522</td><td>1.367864e-01</td><td>3.221288e-01</td><td>Gm54512</td><td>-1.48786522</td></tr>\n",
              "\t<tr><th scope=row>56561</th><td>ENSMUSG00002076599.1</td><td>  8.226211</td><td> 0.19881806</td><td>0.6672527</td><td> 0.29796515</td><td>7.657298e-01</td><td>8.897072e-01</td><td>Gm54753</td><td> 0.29796515</td></tr>\n",
              "\t<tr><th scope=row>56574</th><td>ENSMUSG00002076612.1</td><td>  2.464944</td><td>-0.17631811</td><td>1.2467646</td><td>-0.14142053</td><td>8.875377e-01</td><td>9.500450e-01</td><td>Gm55866</td><td>-0.14142053</td></tr>\n",
              "\t<tr><th scope=row>56647</th><td>ENSMUSG00002076685.1</td><td> 51.420312</td><td>-0.59557593</td><td>0.2771265</td><td>-2.14911240</td><td>3.162549e-02</td><td>1.092178e-01</td><td>Gm55539</td><td>-2.14911240</td></tr>\n",
              "\t<tr><th scope=row>56668</th><td>ENSMUSG00002076706.1</td><td> 22.058465</td><td> 0.09252988</td><td>0.4126392</td><td> 0.22423917</td><td>8.225712e-01</td><td>9.147382e-01</td><td>Gm55921</td><td> 0.22423917</td></tr>\n",
              "\t<tr><th scope=row>56678</th><td>ENSMUSG00002076716.1</td><td>  2.030269</td><td>-0.85621625</td><td>1.3875037</td><td>-0.61709114</td><td>5.371746e-01</td><td>7.460297e-01</td><td>Gm54999</td><td>-0.61709114</td></tr>\n",
              "\t<tr><th scope=row>56684</th><td>ENSMUSG00002076722.1</td><td> 14.477927</td><td> 0.09784427</td><td>0.5051773</td><td> 0.19368302</td><td>8.464241e-01</td><td>9.268976e-01</td><td>Gm56408</td><td> 0.19368302</td></tr>\n",
              "\t<tr><th scope=row>56695</th><td>ENSMUSG00002076733.1</td><td>  7.355986</td><td> 0.89876347</td><td>0.7750519</td><td> 1.15961713</td><td>2.462047e-01</td><td>4.756372e-01</td><td>Gm54766</td><td> 1.15961713</td></tr>\n",
              "\t<tr><th scope=row>56731</th><td>ENSMUSG00002076769.1</td><td>283.575247</td><td>-0.62217585</td><td>0.1497579</td><td>-4.15454308</td><td>3.259382e-05</td><td>3.098076e-04</td><td>Gm55788</td><td>-4.15454308</td></tr>\n",
              "\t<tr><th scope=row>56747</th><td>ENSMUSG00002076785.1</td><td>444.479669</td><td> 0.06102621</td><td>0.1389833</td><td> 0.43909038</td><td>6.605961e-01</td><td>8.260614e-01</td><td>Gm56299</td><td> 0.43909038</td></tr>\n",
              "\t<tr><th scope=row>56777</th><td>ENSMUSG00002076815.1</td><td>  9.439418</td><td> 1.44156872</td><td>0.7231222</td><td> 1.99353391</td><td>4.620301e-02</td><td>1.454337e-01</td><td>Gm56282</td><td> 1.99353391</td></tr>\n",
              "\t<tr><th scope=row>56796</th><td>ENSMUSG00002076834.1</td><td>  6.339582</td><td> 0.14277207</td><td>0.8454027</td><td> 0.16888054</td><td>8.658906e-01</td><td>9.401865e-01</td><td>Gm55665</td><td> 0.16888054</td></tr>\n",
              "\t<tr><th scope=row>56839</th><td>ENSMUSG00002076877.1</td><td>  2.413970</td><td>-0.68336758</td><td>1.2385704</td><td>-0.55173899</td><td>5.811272e-01</td><td>7.745984e-01</td><td>Gm54756</td><td>-0.55173899</td></tr>\n",
              "\t<tr><th scope=row>56844</th><td>ENSMUSG00002076882.1</td><td>  1.476246</td><td>-1.05862991</td><td>1.7134648</td><td>-0.61782999</td><td>5.366874e-01</td><td>7.457857e-01</td><td>Gm56284</td><td>-0.61782999</td></tr>\n",
              "\t<tr><th scope=row>56897</th><td>ENSMUSG00002076936.1</td><td>  4.125096</td><td> 1.03432111</td><td>0.9640959</td><td> 1.07284043</td><td>2.833427e-01</td><td>5.194953e-01</td><td>Gm54449</td><td> 1.07284043</td></tr>\n",
              "\t<tr><th scope=row>56918</th><td>ENSMUSG00002076957.1</td><td> 54.860792</td><td> 0.20850609</td><td>0.3464429</td><td> 0.60184835</td><td>5.472751e-01</td><td>7.509804e-01</td><td>Gm55876</td><td> 0.60184835</td></tr>\n",
              "\t<tr><th scope=row>56921</th><td>ENSMUSG00002076960.1</td><td>  4.085410</td><td> 5.45619958</td><td>1.4540990</td><td> 3.75228905</td><td>1.752273e-04</td><td>1.376799e-03</td><td>Gm56346</td><td> 3.75228905</td></tr>\n",
              "\t<tr><th scope=row>56937</th><td>ENSMUSG00002076976.1</td><td>  5.749096</td><td> 1.70940506</td><td>0.8562685</td><td> 1.99634223</td><td>4.589668e-02</td><td>1.446279e-01</td><td>Gm55261</td><td> 1.99634223</td></tr>\n",
              "\t<tr><th scope=row>56938</th><td>ENSMUSG00002076977.1</td><td>  8.898405</td><td> 0.60468579</td><td>0.6471853</td><td> 0.93433177</td><td>3.501328e-01</td><td>5.912247e-01</td><td>Gm55834</td><td> 0.93433177</td></tr>\n",
              "</tbody>\n",
              "</table>\n"
            ],
            "text/markdown": "\nA data.frame: 14363 × 9\n\n| <!--/--> | X &lt;chr&gt; | baseMean &lt;dbl&gt; | log2FoldChange &lt;dbl&gt; | lfcSE &lt;dbl&gt; | stat &lt;dbl&gt; | pvalue &lt;dbl&gt; | padj &lt;dbl&gt; | gene &lt;chr&gt; | wald_stat &lt;dbl&gt; |\n|---|---|---|---|---|---|---|---|---|---|\n| 1 | ENSMUSG00000000001.5  |  153.602430 | -0.97483661 | 0.18538141 |  -5.25854573 | 1.451991e-07 | 2.237655e-06 | Gnai3    |  -5.25854573 |\n| 3 | ENSMUSG00000000028.16 |  139.952704 | -0.26844660 | 0.18583777 |  -1.44452120 | 1.485924e-01 | 3.404956e-01 | Cdc45    |  -1.44452120 |\n| 5 | ENSMUSG00000000037.18 |  139.960144 | -0.46508110 | 0.19525664 |  -2.38189644 | 1.722374e-02 | 6.850861e-02 | Scml2    |  -2.38189644 |\n| 8 | ENSMUSG00000000058.7  | 1257.348352 | -0.48136183 | 0.11846837 |  -4.06320974 | 4.840250e-05 | 4.419613e-04 | Cav2     |  -4.06320974 |\n| 11 | ENSMUSG00000000088.8  |   13.066625 | -0.04888990 | 0.59259504 |  -0.08250136 | 9.342480e-01 | 9.706945e-01 | Cox5a    |  -0.08250136 |\n| 13 | ENSMUSG00000000094.13 |   17.167897 | -0.40621463 | 0.48798130 |  -0.83243892 | 4.051612e-01 | 6.389906e-01 | Tbx4     |  -0.83243892 |\n| 15 | ENSMUSG00000000120.7  |    5.852888 | -0.60526160 | 0.82901213 |  -0.73009982 | 4.653292e-01 | 6.916603e-01 | Ngfr     |  -0.73009982 |\n| 16 | ENSMUSG00000000125.6  |   10.419035 |  0.35642099 | 0.61644365 |   0.57818908 | 5.631365e-01 | 7.634821e-01 | Wnt3     |   0.57818908 |\n| 17 | ENSMUSG00000000126.12 |   56.005626 | -0.04117141 | 0.26489670 |  -0.15542441 | 8.764867e-01 | 9.457877e-01 | Wnt9a    |  -0.15542441 |\n| 18 | ENSMUSG00000000127.16 |    6.195235 | -0.49915728 | 0.79913913 |  -0.62461874 | 5.322213e-01 | 7.435884e-01 | Fer      |  -0.62461874 |\n| 19 | ENSMUSG00000000131.16 |  143.601375 |  0.01830672 | 0.17991970 |   0.10174939 | 9.189556e-01 | 9.652725e-01 | Xpo6     |   0.10174939 |\n| 22 | ENSMUSG00000000148.18 |   16.176551 |  0.32434113 | 0.48083340 |   0.67453953 | 4.999684e-01 | 7.184910e-01 | Brat1    |   0.67453953 |\n| 23 | ENSMUSG00000000149.11 |   10.822550 |  3.04024012 | 0.74590561 |   4.07590460 | 4.583581e-05 | 4.209333e-04 | Gna12    |   4.07590460 |\n| 24 | ENSMUSG00000000154.17 | 1317.070437 | -0.75682244 | 0.14724476 |  -5.13989400 | 2.748935e-07 | 3.996250e-06 | Slc22a18 |  -5.13989400 |\n| 25 | ENSMUSG00000000157.17 |    4.223124 | -1.02661621 | 0.95469777 |  -1.07533111 | 2.822265e-01 | 5.190044e-01 | Itgb2l   |  -1.07533111 |\n| 27 | ENSMUSG00000000167.15 |    2.362620 | -0.34130315 | 1.32231744 |  -0.25810985 | 7.963221e-01 | 9.039902e-01 | Pih1d2   |  -0.25810985 |\n| 28 | ENSMUSG00000000168.11 |    2.558879 |  1.05400806 | 1.21626557 |   0.86659369 | 3.861647e-01 | 6.253590e-01 | Dlat     |   0.86659369 |\n| 29 | ENSMUSG00000000171.6  |    2.981665 |  3.96976124 | 1.53007201 |   2.59449307 | 9.473052e-03 | 4.221578e-02 | Sdhd     |   2.59449307 |\n| 32 | ENSMUSG00000000184.13 | 9969.315559 | -0.93151833 | 0.06993348 | -13.32006336 | 1.769573e-40 | 3.630910e-38 | Ccnd2    | -13.32006336 |\n| 33 | ENSMUSG00000000194.14 |  172.668334 |  0.06599383 | 0.16662294 |   0.39606688 | 6.920557e-01 | 8.443044e-01 | Gpr107   |   0.39606688 |\n| 36 | ENSMUSG00000000204.17 |    3.918691 | -2.27509144 | 1.13126902 |  -2.01109674 | 4.431524e-02 | 1.408809e-01 | Slfn4    |  -2.01109674 |\n| 37 | ENSMUSG00000000214.12 |  151.946737 |  0.98586937 | 0.17939772 |   5.49543992 | 3.897376e-08 | 6.664049e-07 | Th       |   5.49543992 |\n| 42 | ENSMUSG00000000247.12 |    7.765039 |  0.05742124 | 0.70715918 |   0.08119988 | 9.352830e-01 | 9.712124e-01 | Lhx2     |   0.08119988 |\n| 43 | ENSMUSG00000000248.17 |   36.259776 | -1.33432644 | 0.37100450 |  -3.59652362 | 3.224983e-04 | 2.369332e-03 | Clec2g   |  -3.59652362 |\n| 45 | ENSMUSG00000000263.16 | 5212.943070 | -0.92660075 | 0.26151611 |  -3.54318807 | 3.953207e-04 | 2.843282e-03 | Glra1    |  -3.54318807 |\n| 46 | ENSMUSG00000000266.12 |   46.645045 | -0.28696109 | 0.30063603 |  -0.95451329 | 3.398239e-01 | 5.797471e-01 | Mid2     |  -0.95451329 |\n| 48 | ENSMUSG00000000276.12 | 1446.590710 | -1.38779036 | 0.09715794 | -14.28385942 | 2.758895e-46 | 7.769805e-44 | Dgke     | -14.28385942 |\n| 49 | ENSMUSG00000000278.11 |   63.720129 |  0.23690369 | 0.25735133 |   0.92054581 | 3.572876e-01 | 5.974065e-01 | Scpep1   |   0.92054581 |\n| 54 | ENSMUSG00000000301.17 |   24.331623 | -0.43014668 | 0.39236121 |  -1.09630277 | 2.729463e-01 | 5.076829e-01 | Pemt     |  -1.09630277 |\n| 55 | ENSMUSG00000000303.13 |  492.437521 | -1.02969955 | 0.12122956 |  -8.49379939 | 1.999894e-17 | 1.014999e-15 | Cdh1     |  -8.49379939 |\n| ⋮ | ⋮ | ⋮ | ⋮ | ⋮ | ⋮ | ⋮ | ⋮ | ⋮ | ⋮ |\n| 56172 | ENSMUSG00002076210.1 |  50.777320 |  1.06019382 | 0.2821888 |  3.75703734 | 1.719368e-04 | 1.356139e-03 | Gm56099 |  3.75703734 |\n| 56195 | ENSMUSG00002076233.1 |  23.691842 |  0.32397237 | 0.3982347 |  0.81352119 | 4.159193e-01 | 6.484647e-01 | Gm55925 |  0.81352119 |\n| 56231 | ENSMUSG00002076269.1 | 245.126531 | -0.76177674 | 0.1441230 | -5.28559969 | 1.252936e-07 | 1.951835e-06 | Gm56241 | -5.28559969 |\n| 56270 | ENSMUSG00002076308.1 |  44.743193 | -0.59080670 | 0.3069550 | -1.92473384 | 5.426266e-02 | 1.644270e-01 | Gm55625 | -1.92473384 |\n| 56285 | ENSMUSG00002076323.1 |  15.513804 | -0.33799158 | 0.4889403 | -0.69127370 | 4.893936e-01 | 7.110313e-01 | Gm56075 | -0.69127370 |\n| 56302 | ENSMUSG00002076340.1 |   1.922558 | -0.10775166 | 1.3332955 | -0.08081604 | 9.355883e-01 | 9.712239e-01 | Gm55442 | -0.08081604 |\n| 56327 | ENSMUSG00002076365.1 | 217.710403 | -0.80951680 | 0.1509477 | -5.36289427 | 8.189895e-08 | 1.315788e-06 | Gm26133 | -5.36289427 |\n| 56388 | ENSMUSG00002076426.1 |   7.622045 |  1.29765597 | 0.8050769 |  1.61184108 | 1.069965e-01 | 2.708002e-01 | Gm55963 |  1.61184108 |\n| 56410 | ENSMUSG00002076448.1 |  42.439697 | -0.04549819 | 0.3199231 | -0.14221600 | 8.869094e-01 | 9.500142e-01 | Gm55071 | -0.14221600 |\n| 56427 | ENSMUSG00002076465.1 |   6.420129 | -0.68854731 | 0.8272583 | -0.83232445 | 4.052258e-01 | 6.389906e-01 | Gm54934 | -0.83232445 |\n| 56466 | ENSMUSG00002076504.1 |   5.017922 | -1.90581987 | 0.9510641 | -2.00388162 | 4.508274e-02 | 1.428466e-01 | Gm56224 | -2.00388162 |\n| 56541 | ENSMUSG00002076579.1 |  36.310886 | -0.53778807 | 0.3614495 | -1.48786522 | 1.367864e-01 | 3.221288e-01 | Gm54512 | -1.48786522 |\n| 56561 | ENSMUSG00002076599.1 |   8.226211 |  0.19881806 | 0.6672527 |  0.29796515 | 7.657298e-01 | 8.897072e-01 | Gm54753 |  0.29796515 |\n| 56574 | ENSMUSG00002076612.1 |   2.464944 | -0.17631811 | 1.2467646 | -0.14142053 | 8.875377e-01 | 9.500450e-01 | Gm55866 | -0.14142053 |\n| 56647 | ENSMUSG00002076685.1 |  51.420312 | -0.59557593 | 0.2771265 | -2.14911240 | 3.162549e-02 | 1.092178e-01 | Gm55539 | -2.14911240 |\n| 56668 | ENSMUSG00002076706.1 |  22.058465 |  0.09252988 | 0.4126392 |  0.22423917 | 8.225712e-01 | 9.147382e-01 | Gm55921 |  0.22423917 |\n| 56678 | ENSMUSG00002076716.1 |   2.030269 | -0.85621625 | 1.3875037 | -0.61709114 | 5.371746e-01 | 7.460297e-01 | Gm54999 | -0.61709114 |\n| 56684 | ENSMUSG00002076722.1 |  14.477927 |  0.09784427 | 0.5051773 |  0.19368302 | 8.464241e-01 | 9.268976e-01 | Gm56408 |  0.19368302 |\n| 56695 | ENSMUSG00002076733.1 |   7.355986 |  0.89876347 | 0.7750519 |  1.15961713 | 2.462047e-01 | 4.756372e-01 | Gm54766 |  1.15961713 |\n| 56731 | ENSMUSG00002076769.1 | 283.575247 | -0.62217585 | 0.1497579 | -4.15454308 | 3.259382e-05 | 3.098076e-04 | Gm55788 | -4.15454308 |\n| 56747 | ENSMUSG00002076785.1 | 444.479669 |  0.06102621 | 0.1389833 |  0.43909038 | 6.605961e-01 | 8.260614e-01 | Gm56299 |  0.43909038 |\n| 56777 | ENSMUSG00002076815.1 |   9.439418 |  1.44156872 | 0.7231222 |  1.99353391 | 4.620301e-02 | 1.454337e-01 | Gm56282 |  1.99353391 |\n| 56796 | ENSMUSG00002076834.1 |   6.339582 |  0.14277207 | 0.8454027 |  0.16888054 | 8.658906e-01 | 9.401865e-01 | Gm55665 |  0.16888054 |\n| 56839 | ENSMUSG00002076877.1 |   2.413970 | -0.68336758 | 1.2385704 | -0.55173899 | 5.811272e-01 | 7.745984e-01 | Gm54756 | -0.55173899 |\n| 56844 | ENSMUSG00002076882.1 |   1.476246 | -1.05862991 | 1.7134648 | -0.61782999 | 5.366874e-01 | 7.457857e-01 | Gm56284 | -0.61782999 |\n| 56897 | ENSMUSG00002076936.1 |   4.125096 |  1.03432111 | 0.9640959 |  1.07284043 | 2.833427e-01 | 5.194953e-01 | Gm54449 |  1.07284043 |\n| 56918 | ENSMUSG00002076957.1 |  54.860792 |  0.20850609 | 0.3464429 |  0.60184835 | 5.472751e-01 | 7.509804e-01 | Gm55876 |  0.60184835 |\n| 56921 | ENSMUSG00002076960.1 |   4.085410 |  5.45619958 | 1.4540990 |  3.75228905 | 1.752273e-04 | 1.376799e-03 | Gm56346 |  3.75228905 |\n| 56937 | ENSMUSG00002076976.1 |   5.749096 |  1.70940506 | 0.8562685 |  1.99634223 | 4.589668e-02 | 1.446279e-01 | Gm55261 |  1.99634223 |\n| 56938 | ENSMUSG00002076977.1 |   8.898405 |  0.60468579 | 0.6471853 |  0.93433177 | 3.501328e-01 | 5.912247e-01 | Gm55834 |  0.93433177 |\n\n",
            "text/latex": "A data.frame: 14363 × 9\n\\begin{tabular}{r|lllllllll}\n  & X & baseMean & log2FoldChange & lfcSE & stat & pvalue & padj & gene & wald\\_stat\\\\\n  & <chr> & <dbl> & <dbl> & <dbl> & <dbl> & <dbl> & <dbl> & <chr> & <dbl>\\\\\n\\hline\n\t1 & ENSMUSG00000000001.5  &  153.602430 & -0.97483661 & 0.18538141 &  -5.25854573 & 1.451991e-07 & 2.237655e-06 & Gnai3    &  -5.25854573\\\\\n\t3 & ENSMUSG00000000028.16 &  139.952704 & -0.26844660 & 0.18583777 &  -1.44452120 & 1.485924e-01 & 3.404956e-01 & Cdc45    &  -1.44452120\\\\\n\t5 & ENSMUSG00000000037.18 &  139.960144 & -0.46508110 & 0.19525664 &  -2.38189644 & 1.722374e-02 & 6.850861e-02 & Scml2    &  -2.38189644\\\\\n\t8 & ENSMUSG00000000058.7  & 1257.348352 & -0.48136183 & 0.11846837 &  -4.06320974 & 4.840250e-05 & 4.419613e-04 & Cav2     &  -4.06320974\\\\\n\t11 & ENSMUSG00000000088.8  &   13.066625 & -0.04888990 & 0.59259504 &  -0.08250136 & 9.342480e-01 & 9.706945e-01 & Cox5a    &  -0.08250136\\\\\n\t13 & ENSMUSG00000000094.13 &   17.167897 & -0.40621463 & 0.48798130 &  -0.83243892 & 4.051612e-01 & 6.389906e-01 & Tbx4     &  -0.83243892\\\\\n\t15 & ENSMUSG00000000120.7  &    5.852888 & -0.60526160 & 0.82901213 &  -0.73009982 & 4.653292e-01 & 6.916603e-01 & Ngfr     &  -0.73009982\\\\\n\t16 & ENSMUSG00000000125.6  &   10.419035 &  0.35642099 & 0.61644365 &   0.57818908 & 5.631365e-01 & 7.634821e-01 & Wnt3     &   0.57818908\\\\\n\t17 & ENSMUSG00000000126.12 &   56.005626 & -0.04117141 & 0.26489670 &  -0.15542441 & 8.764867e-01 & 9.457877e-01 & Wnt9a    &  -0.15542441\\\\\n\t18 & ENSMUSG00000000127.16 &    6.195235 & -0.49915728 & 0.79913913 &  -0.62461874 & 5.322213e-01 & 7.435884e-01 & Fer      &  -0.62461874\\\\\n\t19 & ENSMUSG00000000131.16 &  143.601375 &  0.01830672 & 0.17991970 &   0.10174939 & 9.189556e-01 & 9.652725e-01 & Xpo6     &   0.10174939\\\\\n\t22 & ENSMUSG00000000148.18 &   16.176551 &  0.32434113 & 0.48083340 &   0.67453953 & 4.999684e-01 & 7.184910e-01 & Brat1    &   0.67453953\\\\\n\t23 & ENSMUSG00000000149.11 &   10.822550 &  3.04024012 & 0.74590561 &   4.07590460 & 4.583581e-05 & 4.209333e-04 & Gna12    &   4.07590460\\\\\n\t24 & ENSMUSG00000000154.17 & 1317.070437 & -0.75682244 & 0.14724476 &  -5.13989400 & 2.748935e-07 & 3.996250e-06 & Slc22a18 &  -5.13989400\\\\\n\t25 & ENSMUSG00000000157.17 &    4.223124 & -1.02661621 & 0.95469777 &  -1.07533111 & 2.822265e-01 & 5.190044e-01 & Itgb2l   &  -1.07533111\\\\\n\t27 & ENSMUSG00000000167.15 &    2.362620 & -0.34130315 & 1.32231744 &  -0.25810985 & 7.963221e-01 & 9.039902e-01 & Pih1d2   &  -0.25810985\\\\\n\t28 & ENSMUSG00000000168.11 &    2.558879 &  1.05400806 & 1.21626557 &   0.86659369 & 3.861647e-01 & 6.253590e-01 & Dlat     &   0.86659369\\\\\n\t29 & ENSMUSG00000000171.6  &    2.981665 &  3.96976124 & 1.53007201 &   2.59449307 & 9.473052e-03 & 4.221578e-02 & Sdhd     &   2.59449307\\\\\n\t32 & ENSMUSG00000000184.13 & 9969.315559 & -0.93151833 & 0.06993348 & -13.32006336 & 1.769573e-40 & 3.630910e-38 & Ccnd2    & -13.32006336\\\\\n\t33 & ENSMUSG00000000194.14 &  172.668334 &  0.06599383 & 0.16662294 &   0.39606688 & 6.920557e-01 & 8.443044e-01 & Gpr107   &   0.39606688\\\\\n\t36 & ENSMUSG00000000204.17 &    3.918691 & -2.27509144 & 1.13126902 &  -2.01109674 & 4.431524e-02 & 1.408809e-01 & Slfn4    &  -2.01109674\\\\\n\t37 & ENSMUSG00000000214.12 &  151.946737 &  0.98586937 & 0.17939772 &   5.49543992 & 3.897376e-08 & 6.664049e-07 & Th       &   5.49543992\\\\\n\t42 & ENSMUSG00000000247.12 &    7.765039 &  0.05742124 & 0.70715918 &   0.08119988 & 9.352830e-01 & 9.712124e-01 & Lhx2     &   0.08119988\\\\\n\t43 & ENSMUSG00000000248.17 &   36.259776 & -1.33432644 & 0.37100450 &  -3.59652362 & 3.224983e-04 & 2.369332e-03 & Clec2g   &  -3.59652362\\\\\n\t45 & ENSMUSG00000000263.16 & 5212.943070 & -0.92660075 & 0.26151611 &  -3.54318807 & 3.953207e-04 & 2.843282e-03 & Glra1    &  -3.54318807\\\\\n\t46 & ENSMUSG00000000266.12 &   46.645045 & -0.28696109 & 0.30063603 &  -0.95451329 & 3.398239e-01 & 5.797471e-01 & Mid2     &  -0.95451329\\\\\n\t48 & ENSMUSG00000000276.12 & 1446.590710 & -1.38779036 & 0.09715794 & -14.28385942 & 2.758895e-46 & 7.769805e-44 & Dgke     & -14.28385942\\\\\n\t49 & ENSMUSG00000000278.11 &   63.720129 &  0.23690369 & 0.25735133 &   0.92054581 & 3.572876e-01 & 5.974065e-01 & Scpep1   &   0.92054581\\\\\n\t54 & ENSMUSG00000000301.17 &   24.331623 & -0.43014668 & 0.39236121 &  -1.09630277 & 2.729463e-01 & 5.076829e-01 & Pemt     &  -1.09630277\\\\\n\t55 & ENSMUSG00000000303.13 &  492.437521 & -1.02969955 & 0.12122956 &  -8.49379939 & 1.999894e-17 & 1.014999e-15 & Cdh1     &  -8.49379939\\\\\n\t⋮ & ⋮ & ⋮ & ⋮ & ⋮ & ⋮ & ⋮ & ⋮ & ⋮ & ⋮\\\\\n\t56172 & ENSMUSG00002076210.1 &  50.777320 &  1.06019382 & 0.2821888 &  3.75703734 & 1.719368e-04 & 1.356139e-03 & Gm56099 &  3.75703734\\\\\n\t56195 & ENSMUSG00002076233.1 &  23.691842 &  0.32397237 & 0.3982347 &  0.81352119 & 4.159193e-01 & 6.484647e-01 & Gm55925 &  0.81352119\\\\\n\t56231 & ENSMUSG00002076269.1 & 245.126531 & -0.76177674 & 0.1441230 & -5.28559969 & 1.252936e-07 & 1.951835e-06 & Gm56241 & -5.28559969\\\\\n\t56270 & ENSMUSG00002076308.1 &  44.743193 & -0.59080670 & 0.3069550 & -1.92473384 & 5.426266e-02 & 1.644270e-01 & Gm55625 & -1.92473384\\\\\n\t56285 & ENSMUSG00002076323.1 &  15.513804 & -0.33799158 & 0.4889403 & -0.69127370 & 4.893936e-01 & 7.110313e-01 & Gm56075 & -0.69127370\\\\\n\t56302 & ENSMUSG00002076340.1 &   1.922558 & -0.10775166 & 1.3332955 & -0.08081604 & 9.355883e-01 & 9.712239e-01 & Gm55442 & -0.08081604\\\\\n\t56327 & ENSMUSG00002076365.1 & 217.710403 & -0.80951680 & 0.1509477 & -5.36289427 & 8.189895e-08 & 1.315788e-06 & Gm26133 & -5.36289427\\\\\n\t56388 & ENSMUSG00002076426.1 &   7.622045 &  1.29765597 & 0.8050769 &  1.61184108 & 1.069965e-01 & 2.708002e-01 & Gm55963 &  1.61184108\\\\\n\t56410 & ENSMUSG00002076448.1 &  42.439697 & -0.04549819 & 0.3199231 & -0.14221600 & 8.869094e-01 & 9.500142e-01 & Gm55071 & -0.14221600\\\\\n\t56427 & ENSMUSG00002076465.1 &   6.420129 & -0.68854731 & 0.8272583 & -0.83232445 & 4.052258e-01 & 6.389906e-01 & Gm54934 & -0.83232445\\\\\n\t56466 & ENSMUSG00002076504.1 &   5.017922 & -1.90581987 & 0.9510641 & -2.00388162 & 4.508274e-02 & 1.428466e-01 & Gm56224 & -2.00388162\\\\\n\t56541 & ENSMUSG00002076579.1 &  36.310886 & -0.53778807 & 0.3614495 & -1.48786522 & 1.367864e-01 & 3.221288e-01 & Gm54512 & -1.48786522\\\\\n\t56561 & ENSMUSG00002076599.1 &   8.226211 &  0.19881806 & 0.6672527 &  0.29796515 & 7.657298e-01 & 8.897072e-01 & Gm54753 &  0.29796515\\\\\n\t56574 & ENSMUSG00002076612.1 &   2.464944 & -0.17631811 & 1.2467646 & -0.14142053 & 8.875377e-01 & 9.500450e-01 & Gm55866 & -0.14142053\\\\\n\t56647 & ENSMUSG00002076685.1 &  51.420312 & -0.59557593 & 0.2771265 & -2.14911240 & 3.162549e-02 & 1.092178e-01 & Gm55539 & -2.14911240\\\\\n\t56668 & ENSMUSG00002076706.1 &  22.058465 &  0.09252988 & 0.4126392 &  0.22423917 & 8.225712e-01 & 9.147382e-01 & Gm55921 &  0.22423917\\\\\n\t56678 & ENSMUSG00002076716.1 &   2.030269 & -0.85621625 & 1.3875037 & -0.61709114 & 5.371746e-01 & 7.460297e-01 & Gm54999 & -0.61709114\\\\\n\t56684 & ENSMUSG00002076722.1 &  14.477927 &  0.09784427 & 0.5051773 &  0.19368302 & 8.464241e-01 & 9.268976e-01 & Gm56408 &  0.19368302\\\\\n\t56695 & ENSMUSG00002076733.1 &   7.355986 &  0.89876347 & 0.7750519 &  1.15961713 & 2.462047e-01 & 4.756372e-01 & Gm54766 &  1.15961713\\\\\n\t56731 & ENSMUSG00002076769.1 & 283.575247 & -0.62217585 & 0.1497579 & -4.15454308 & 3.259382e-05 & 3.098076e-04 & Gm55788 & -4.15454308\\\\\n\t56747 & ENSMUSG00002076785.1 & 444.479669 &  0.06102621 & 0.1389833 &  0.43909038 & 6.605961e-01 & 8.260614e-01 & Gm56299 &  0.43909038\\\\\n\t56777 & ENSMUSG00002076815.1 &   9.439418 &  1.44156872 & 0.7231222 &  1.99353391 & 4.620301e-02 & 1.454337e-01 & Gm56282 &  1.99353391\\\\\n\t56796 & ENSMUSG00002076834.1 &   6.339582 &  0.14277207 & 0.8454027 &  0.16888054 & 8.658906e-01 & 9.401865e-01 & Gm55665 &  0.16888054\\\\\n\t56839 & ENSMUSG00002076877.1 &   2.413970 & -0.68336758 & 1.2385704 & -0.55173899 & 5.811272e-01 & 7.745984e-01 & Gm54756 & -0.55173899\\\\\n\t56844 & ENSMUSG00002076882.1 &   1.476246 & -1.05862991 & 1.7134648 & -0.61782999 & 5.366874e-01 & 7.457857e-01 & Gm56284 & -0.61782999\\\\\n\t56897 & ENSMUSG00002076936.1 &   4.125096 &  1.03432111 & 0.9640959 &  1.07284043 & 2.833427e-01 & 5.194953e-01 & Gm54449 &  1.07284043\\\\\n\t56918 & ENSMUSG00002076957.1 &  54.860792 &  0.20850609 & 0.3464429 &  0.60184835 & 5.472751e-01 & 7.509804e-01 & Gm55876 &  0.60184835\\\\\n\t56921 & ENSMUSG00002076960.1 &   4.085410 &  5.45619958 & 1.4540990 &  3.75228905 & 1.752273e-04 & 1.376799e-03 & Gm56346 &  3.75228905\\\\\n\t56937 & ENSMUSG00002076976.1 &   5.749096 &  1.70940506 & 0.8562685 &  1.99634223 & 4.589668e-02 & 1.446279e-01 & Gm55261 &  1.99634223\\\\\n\t56938 & ENSMUSG00002076977.1 &   8.898405 &  0.60468579 & 0.6471853 &  0.93433177 & 3.501328e-01 & 5.912247e-01 & Gm55834 &  0.93433177\\\\\n\\end{tabular}\n",
            "text/plain": [
              "      X                     baseMean    log2FoldChange lfcSE      stat        \n",
              "1     ENSMUSG00000000001.5   153.602430 -0.97483661    0.18538141  -5.25854573\n",
              "3     ENSMUSG00000000028.16  139.952704 -0.26844660    0.18583777  -1.44452120\n",
              "5     ENSMUSG00000000037.18  139.960144 -0.46508110    0.19525664  -2.38189644\n",
              "8     ENSMUSG00000000058.7  1257.348352 -0.48136183    0.11846837  -4.06320974\n",
              "11    ENSMUSG00000000088.8    13.066625 -0.04888990    0.59259504  -0.08250136\n",
              "13    ENSMUSG00000000094.13   17.167897 -0.40621463    0.48798130  -0.83243892\n",
              "15    ENSMUSG00000000120.7     5.852888 -0.60526160    0.82901213  -0.73009982\n",
              "16    ENSMUSG00000000125.6    10.419035  0.35642099    0.61644365   0.57818908\n",
              "17    ENSMUSG00000000126.12   56.005626 -0.04117141    0.26489670  -0.15542441\n",
              "18    ENSMUSG00000000127.16    6.195235 -0.49915728    0.79913913  -0.62461874\n",
              "19    ENSMUSG00000000131.16  143.601375  0.01830672    0.17991970   0.10174939\n",
              "22    ENSMUSG00000000148.18   16.176551  0.32434113    0.48083340   0.67453953\n",
              "23    ENSMUSG00000000149.11   10.822550  3.04024012    0.74590561   4.07590460\n",
              "24    ENSMUSG00000000154.17 1317.070437 -0.75682244    0.14724476  -5.13989400\n",
              "25    ENSMUSG00000000157.17    4.223124 -1.02661621    0.95469777  -1.07533111\n",
              "27    ENSMUSG00000000167.15    2.362620 -0.34130315    1.32231744  -0.25810985\n",
              "28    ENSMUSG00000000168.11    2.558879  1.05400806    1.21626557   0.86659369\n",
              "29    ENSMUSG00000000171.6     2.981665  3.96976124    1.53007201   2.59449307\n",
              "32    ENSMUSG00000000184.13 9969.315559 -0.93151833    0.06993348 -13.32006336\n",
              "33    ENSMUSG00000000194.14  172.668334  0.06599383    0.16662294   0.39606688\n",
              "36    ENSMUSG00000000204.17    3.918691 -2.27509144    1.13126902  -2.01109674\n",
              "37    ENSMUSG00000000214.12  151.946737  0.98586937    0.17939772   5.49543992\n",
              "42    ENSMUSG00000000247.12    7.765039  0.05742124    0.70715918   0.08119988\n",
              "43    ENSMUSG00000000248.17   36.259776 -1.33432644    0.37100450  -3.59652362\n",
              "45    ENSMUSG00000000263.16 5212.943070 -0.92660075    0.26151611  -3.54318807\n",
              "46    ENSMUSG00000000266.12   46.645045 -0.28696109    0.30063603  -0.95451329\n",
              "48    ENSMUSG00000000276.12 1446.590710 -1.38779036    0.09715794 -14.28385942\n",
              "49    ENSMUSG00000000278.11   63.720129  0.23690369    0.25735133   0.92054581\n",
              "54    ENSMUSG00000000301.17   24.331623 -0.43014668    0.39236121  -1.09630277\n",
              "55    ENSMUSG00000000303.13  492.437521 -1.02969955    0.12122956  -8.49379939\n",
              "⋮     ⋮                     ⋮           ⋮              ⋮          ⋮           \n",
              "56172 ENSMUSG00002076210.1   50.777320   1.06019382    0.2821888   3.75703734 \n",
              "56195 ENSMUSG00002076233.1   23.691842   0.32397237    0.3982347   0.81352119 \n",
              "56231 ENSMUSG00002076269.1  245.126531  -0.76177674    0.1441230  -5.28559969 \n",
              "56270 ENSMUSG00002076308.1   44.743193  -0.59080670    0.3069550  -1.92473384 \n",
              "56285 ENSMUSG00002076323.1   15.513804  -0.33799158    0.4889403  -0.69127370 \n",
              "56302 ENSMUSG00002076340.1    1.922558  -0.10775166    1.3332955  -0.08081604 \n",
              "56327 ENSMUSG00002076365.1  217.710403  -0.80951680    0.1509477  -5.36289427 \n",
              "56388 ENSMUSG00002076426.1    7.622045   1.29765597    0.8050769   1.61184108 \n",
              "56410 ENSMUSG00002076448.1   42.439697  -0.04549819    0.3199231  -0.14221600 \n",
              "56427 ENSMUSG00002076465.1    6.420129  -0.68854731    0.8272583  -0.83232445 \n",
              "56466 ENSMUSG00002076504.1    5.017922  -1.90581987    0.9510641  -2.00388162 \n",
              "56541 ENSMUSG00002076579.1   36.310886  -0.53778807    0.3614495  -1.48786522 \n",
              "56561 ENSMUSG00002076599.1    8.226211   0.19881806    0.6672527   0.29796515 \n",
              "56574 ENSMUSG00002076612.1    2.464944  -0.17631811    1.2467646  -0.14142053 \n",
              "56647 ENSMUSG00002076685.1   51.420312  -0.59557593    0.2771265  -2.14911240 \n",
              "56668 ENSMUSG00002076706.1   22.058465   0.09252988    0.4126392   0.22423917 \n",
              "56678 ENSMUSG00002076716.1    2.030269  -0.85621625    1.3875037  -0.61709114 \n",
              "56684 ENSMUSG00002076722.1   14.477927   0.09784427    0.5051773   0.19368302 \n",
              "56695 ENSMUSG00002076733.1    7.355986   0.89876347    0.7750519   1.15961713 \n",
              "56731 ENSMUSG00002076769.1  283.575247  -0.62217585    0.1497579  -4.15454308 \n",
              "56747 ENSMUSG00002076785.1  444.479669   0.06102621    0.1389833   0.43909038 \n",
              "56777 ENSMUSG00002076815.1    9.439418   1.44156872    0.7231222   1.99353391 \n",
              "56796 ENSMUSG00002076834.1    6.339582   0.14277207    0.8454027   0.16888054 \n",
              "56839 ENSMUSG00002076877.1    2.413970  -0.68336758    1.2385704  -0.55173899 \n",
              "56844 ENSMUSG00002076882.1    1.476246  -1.05862991    1.7134648  -0.61782999 \n",
              "56897 ENSMUSG00002076936.1    4.125096   1.03432111    0.9640959   1.07284043 \n",
              "56918 ENSMUSG00002076957.1   54.860792   0.20850609    0.3464429   0.60184835 \n",
              "56921 ENSMUSG00002076960.1    4.085410   5.45619958    1.4540990   3.75228905 \n",
              "56937 ENSMUSG00002076976.1    5.749096   1.70940506    0.8562685   1.99634223 \n",
              "56938 ENSMUSG00002076977.1    8.898405   0.60468579    0.6471853   0.93433177 \n",
              "      pvalue       padj         gene     wald_stat   \n",
              "1     1.451991e-07 2.237655e-06 Gnai3     -5.25854573\n",
              "3     1.485924e-01 3.404956e-01 Cdc45     -1.44452120\n",
              "5     1.722374e-02 6.850861e-02 Scml2     -2.38189644\n",
              "8     4.840250e-05 4.419613e-04 Cav2      -4.06320974\n",
              "11    9.342480e-01 9.706945e-01 Cox5a     -0.08250136\n",
              "13    4.051612e-01 6.389906e-01 Tbx4      -0.83243892\n",
              "15    4.653292e-01 6.916603e-01 Ngfr      -0.73009982\n",
              "16    5.631365e-01 7.634821e-01 Wnt3       0.57818908\n",
              "17    8.764867e-01 9.457877e-01 Wnt9a     -0.15542441\n",
              "18    5.322213e-01 7.435884e-01 Fer       -0.62461874\n",
              "19    9.189556e-01 9.652725e-01 Xpo6       0.10174939\n",
              "22    4.999684e-01 7.184910e-01 Brat1      0.67453953\n",
              "23    4.583581e-05 4.209333e-04 Gna12      4.07590460\n",
              "24    2.748935e-07 3.996250e-06 Slc22a18  -5.13989400\n",
              "25    2.822265e-01 5.190044e-01 Itgb2l    -1.07533111\n",
              "27    7.963221e-01 9.039902e-01 Pih1d2    -0.25810985\n",
              "28    3.861647e-01 6.253590e-01 Dlat       0.86659369\n",
              "29    9.473052e-03 4.221578e-02 Sdhd       2.59449307\n",
              "32    1.769573e-40 3.630910e-38 Ccnd2    -13.32006336\n",
              "33    6.920557e-01 8.443044e-01 Gpr107     0.39606688\n",
              "36    4.431524e-02 1.408809e-01 Slfn4     -2.01109674\n",
              "37    3.897376e-08 6.664049e-07 Th         5.49543992\n",
              "42    9.352830e-01 9.712124e-01 Lhx2       0.08119988\n",
              "43    3.224983e-04 2.369332e-03 Clec2g    -3.59652362\n",
              "45    3.953207e-04 2.843282e-03 Glra1     -3.54318807\n",
              "46    3.398239e-01 5.797471e-01 Mid2      -0.95451329\n",
              "48    2.758895e-46 7.769805e-44 Dgke     -14.28385942\n",
              "49    3.572876e-01 5.974065e-01 Scpep1     0.92054581\n",
              "54    2.729463e-01 5.076829e-01 Pemt      -1.09630277\n",
              "55    1.999894e-17 1.014999e-15 Cdh1      -8.49379939\n",
              "⋮     ⋮            ⋮            ⋮        ⋮           \n",
              "56172 1.719368e-04 1.356139e-03 Gm56099   3.75703734 \n",
              "56195 4.159193e-01 6.484647e-01 Gm55925   0.81352119 \n",
              "56231 1.252936e-07 1.951835e-06 Gm56241  -5.28559969 \n",
              "56270 5.426266e-02 1.644270e-01 Gm55625  -1.92473384 \n",
              "56285 4.893936e-01 7.110313e-01 Gm56075  -0.69127370 \n",
              "56302 9.355883e-01 9.712239e-01 Gm55442  -0.08081604 \n",
              "56327 8.189895e-08 1.315788e-06 Gm26133  -5.36289427 \n",
              "56388 1.069965e-01 2.708002e-01 Gm55963   1.61184108 \n",
              "56410 8.869094e-01 9.500142e-01 Gm55071  -0.14221600 \n",
              "56427 4.052258e-01 6.389906e-01 Gm54934  -0.83232445 \n",
              "56466 4.508274e-02 1.428466e-01 Gm56224  -2.00388162 \n",
              "56541 1.367864e-01 3.221288e-01 Gm54512  -1.48786522 \n",
              "56561 7.657298e-01 8.897072e-01 Gm54753   0.29796515 \n",
              "56574 8.875377e-01 9.500450e-01 Gm55866  -0.14142053 \n",
              "56647 3.162549e-02 1.092178e-01 Gm55539  -2.14911240 \n",
              "56668 8.225712e-01 9.147382e-01 Gm55921   0.22423917 \n",
              "56678 5.371746e-01 7.460297e-01 Gm54999  -0.61709114 \n",
              "56684 8.464241e-01 9.268976e-01 Gm56408   0.19368302 \n",
              "56695 2.462047e-01 4.756372e-01 Gm54766   1.15961713 \n",
              "56731 3.259382e-05 3.098076e-04 Gm55788  -4.15454308 \n",
              "56747 6.605961e-01 8.260614e-01 Gm56299   0.43909038 \n",
              "56777 4.620301e-02 1.454337e-01 Gm56282   1.99353391 \n",
              "56796 8.658906e-01 9.401865e-01 Gm55665   0.16888054 \n",
              "56839 5.811272e-01 7.745984e-01 Gm54756  -0.55173899 \n",
              "56844 5.366874e-01 7.457857e-01 Gm56284  -0.61782999 \n",
              "56897 2.833427e-01 5.194953e-01 Gm54449   1.07284043 \n",
              "56918 5.472751e-01 7.509804e-01 Gm55876   0.60184835 \n",
              "56921 1.752273e-04 1.376799e-03 Gm56346   3.75228905 \n",
              "56937 4.589668e-02 1.446279e-01 Gm55261   1.99634223 \n",
              "56938 3.501328e-01 5.912247e-01 Gm55834   0.93433177 "
            ]
          },
          "metadata": {}
        }
      ]
    },
    {
      "cell_type": "code",
      "source": [
        "deseq2_results$wald_stat <- deseq2_results$wald_stat +10"
      ],
      "metadata": {
        "id": "ZNrNQSZCkjOj"
      },
      "execution_count": 176,
      "outputs": []
    },
    {
      "cell_type": "code",
      "source": [
        "deseq2_results"
      ],
      "metadata": {
        "id": "VH5svxAykp3m"
      },
      "execution_count": null,
      "outputs": []
    },
    {
      "cell_type": "code",
      "source": [
        "# Create gene_ranking using Wald statistics instead of gene symbols\n",
        "gene_ranking <- deseq2_results[order(deseq2_results$wald_stat, decreasing=TRUE), \"wald_stat\"]\n",
        "names(gene_ranking) <- deseq2_results[order(deseq2_results$wald_stat, decreasing=TRUE), \"gene\"]"
      ],
      "metadata": {
        "id": "ofRIH-EjJgcY"
      },
      "execution_count": 178,
      "outputs": []
    },
    {
      "cell_type": "code",
      "source": [
        "gene_ranking"
      ],
      "metadata": {
        "id": "k7t_zshfiDcy"
      },
      "execution_count": null,
      "outputs": []
    },
    {
      "cell_type": "code",
      "source": [
        "# Get Hallmark gene sets from MSigDB\n",
        "gmt_file <- \"h.all.v7.4.symbols.gmt\"\n",
        "if (!file.exists(gmt_file)) {\n",
        "  download.file(\"https://data.broadinstitute.org/gsea-msigdb/msigdb/release/7.4/h.all.v7.4.symbols.gmt\", gmt_file)\n",
        "}\n",
        "pathways <- gmtPathways(gmt_file)"
      ],
      "metadata": {
        "id": "XwkqDlBKJjiw"
      },
      "execution_count": 179,
      "outputs": []
    },
    {
      "cell_type": "code",
      "source": [
        "length(pathways)"
      ],
      "metadata": {
        "colab": {
          "base_uri": "https://localhost:8080/",
          "height": 34
        },
        "id": "PJyorJRlbGgm",
        "outputId": "6b1f9b1c-82ef-4bb5-cba5-50c843397c6c"
      },
      "execution_count": 156,
      "outputs": [
        {
          "output_type": "display_data",
          "data": {
            "text/html": [
              "50"
            ],
            "text/markdown": "50",
            "text/latex": "50",
            "text/plain": [
              "[1] 50"
            ]
          },
          "metadata": {}
        }
      ]
    },
    {
      "cell_type": "code",
      "source": [
        "# Filter out non-finite values from gene_ranking\n",
        "finite_idx <- is.finite(gene_ranking)\n",
        "gene_ranking <- gene_ranking[finite_idx]"
      ],
      "metadata": {
        "id": "FmMK0ZTPLR_c"
      },
      "execution_count": 180,
      "outputs": []
    },
    {
      "cell_type": "code",
      "source": [
        "length(gene_ranking)"
      ],
      "metadata": {
        "colab": {
          "base_uri": "https://localhost:8080/",
          "height": 34
        },
        "id": "_LKL-TgtcARC",
        "outputId": "6f0ff9ca-bf3c-4721-9701-58d3e8c17fa3"
      },
      "execution_count": 164,
      "outputs": [
        {
          "output_type": "display_data",
          "data": {
            "text/html": [
              "14363"
            ],
            "text/markdown": "14363",
            "text/latex": "14363",
            "text/plain": [
              "[1] 14363"
            ]
          },
          "metadata": {}
        }
      ]
    },
    {
      "cell_type": "code",
      "source": [
        "head(gene_ranking)"
      ],
      "metadata": {
        "colab": {
          "base_uri": "https://localhost:8080/",
          "height": 52
        },
        "id": "tyBX_5G2jIky",
        "outputId": "5acbb8e4-78ab-409a-fbc1-1b951dd790bf"
      },
      "execution_count": 162,
      "outputs": [
        {
          "output_type": "display_data",
          "data": {
            "text/html": [
              "<style>\n",
              ".dl-inline {width: auto; margin:0; padding: 0}\n",
              ".dl-inline>dt, .dl-inline>dd {float: none; width: auto; display: inline-block}\n",
              ".dl-inline>dt::after {content: \":\\0020\"; padding-right: .5ex}\n",
              ".dl-inline>dt:not(:first-of-type) {padding-left: .5ex}\n",
              "</style><dl class=dl-inline><dt>Mtln</dt><dd>32.4965816236575</dd><dt>Aqp3</dt><dd>32.0335055827967</dd><dt>Bpi</dt><dd>29.4980065933612</dd><dt>Lcat</dt><dd>26.6870333224546</dd><dt>Eif4b</dt><dd>24.3634305548865</dd><dt>Gm50025</dt><dd>22.5314287932598</dd></dl>\n"
            ],
            "text/markdown": "Mtln\n:   32.4965816236575Aqp3\n:   32.0335055827967Bpi\n:   29.4980065933612Lcat\n:   26.6870333224546Eif4b\n:   24.3634305548865Gm50025\n:   22.5314287932598\n\n",
            "text/latex": "\\begin{description*}\n\\item[Mtln] 32.4965816236575\n\\item[Aqp3] 32.0335055827967\n\\item[Bpi] 29.4980065933612\n\\item[Lcat] 26.6870333224546\n\\item[Eif4b] 24.3634305548865\n\\item[Gm50025] 22.5314287932598\n\\end{description*}\n",
            "text/plain": [
              "    Mtln     Aqp3      Bpi     Lcat    Eif4b  Gm50025 \n",
              "32.49658 32.03351 29.49801 26.68703 24.36343 22.53143 "
            ]
          },
          "metadata": {}
        }
      ]
    },
    {
      "cell_type": "code",
      "source": [
        "# Check if there are any non-finite values in gene_ranking\n",
        "print(\"Non-finite values in gene_ranking:\")\n",
        "print(any(!is.finite(gene_ranking)))"
      ],
      "metadata": {
        "colab": {
          "base_uri": "https://localhost:8080/"
        },
        "id": "pPcHEtskLSCd",
        "outputId": "b63837a7-34e2-428c-b72c-32a9a3f5d2c4"
      },
      "execution_count": 118,
      "outputs": [
        {
          "output_type": "stream",
          "name": "stdout",
          "text": [
            "[1] \"Non-finite values in gene_ranking:\"\n",
            "[1] FALSE\n"
          ]
        }
      ]
    },
    {
      "cell_type": "code",
      "source": [
        "# Perform GSEA analysis\n",
        "gsea_results <- fgseaMultilevel(pathways, gene_ranking, eps=0)"
      ],
      "metadata": {
        "id": "wemVSjTOJt4S",
        "colab": {
          "base_uri": "https://localhost:8080/"
        },
        "outputId": "884c29f0-0925-40ba-a210-8b613fee2017"
      },
      "execution_count": 181,
      "outputs": [
        {
          "output_type": "stream",
          "name": "stderr",
          "text": [
            "Warning message in preparePathwaysAndStats(pathways, stats, minSize, maxSize, gseaParam, :\n",
            "“There are ties in the preranked stats (5.1% of the list).\n",
            "The order of those tied genes will be arbitrary, which may produce unexpected results.”\n",
            "Warning message in preparePathwaysAndStats(pathways, stats, minSize, maxSize, gseaParam, :\n",
            "“There are duplicate gene names, fgsea may produce unexpected results.”\n"
          ]
        }
      ]
    },
    {
      "cell_type": "code",
      "source": [
        "gsea_results"
      ],
      "metadata": {
        "colab": {
          "base_uri": "https://localhost:8080/",
          "height": 223
        },
        "id": "0V_9gokna33h",
        "outputId": "450cd9ae-c821-4a4e-8006-5bc715351699"
      },
      "execution_count": 182,
      "outputs": [
        {
          "output_type": "display_data",
          "data": {
            "text/html": [
              "<table class=\"dataframe\">\n",
              "<caption>A data.table: 4 × 8</caption>\n",
              "<thead>\n",
              "\t<tr><th scope=col>pathway</th><th scope=col>pval</th><th scope=col>padj</th><th scope=col>log2err</th><th scope=col>ES</th><th scope=col>NES</th><th scope=col>size</th><th scope=col>leadingEdge</th></tr>\n",
              "\t<tr><th scope=col>&lt;chr&gt;</th><th scope=col>&lt;dbl&gt;</th><th scope=col>&lt;dbl&gt;</th><th scope=col>&lt;dbl&gt;</th><th scope=col>&lt;dbl&gt;</th><th scope=col>&lt;dbl&gt;</th><th scope=col>&lt;int&gt;</th><th scope=col>&lt;list&gt;</th></tr>\n",
              "</thead>\n",
              "<tbody>\n",
              "\t<tr><td>HALLMARK_ALLOGRAFT_REJECTION  </td><td>0.3975410</td><td>0.3975410</td><td>0.09314546</td><td>-0.8081743</td><td>-1.074889</td><td>1</td><td>         C2</td></tr>\n",
              "\t<tr><td>HALLMARK_COAGULATION          </td><td>0.2028571</td><td>0.2933333</td><td>0.16565670</td><td>-0.4945758</td><td>-1.230089</td><td>4</td><td>F8, F10, C2</td></tr>\n",
              "\t<tr><td>HALLMARK_COMPLEMENT           </td><td>0.2200000</td><td>0.2933333</td><td>0.15851411</td><td>-0.4869506</td><td>-1.211124</td><td>4</td><td>F8, F10, C2</td></tr>\n",
              "\t<tr><td>HALLMARK_XENOBIOTIC_METABOLISM</td><td>0.2028689</td><td>0.2933333</td><td>0.13802224</td><td>-0.9101796</td><td>-1.210558</td><td>1</td><td>        F10</td></tr>\n",
              "</tbody>\n",
              "</table>\n"
            ],
            "text/markdown": "\nA data.table: 4 × 8\n\n| pathway &lt;chr&gt; | pval &lt;dbl&gt; | padj &lt;dbl&gt; | log2err &lt;dbl&gt; | ES &lt;dbl&gt; | NES &lt;dbl&gt; | size &lt;int&gt; | leadingEdge &lt;list&gt; |\n|---|---|---|---|---|---|---|---|\n| HALLMARK_ALLOGRAFT_REJECTION   | 0.3975410 | 0.3975410 | 0.09314546 | -0.8081743 | -1.074889 | 1 |          C2 |\n| HALLMARK_COAGULATION           | 0.2028571 | 0.2933333 | 0.16565670 | -0.4945758 | -1.230089 | 4 | F8, F10, C2 |\n| HALLMARK_COMPLEMENT            | 0.2200000 | 0.2933333 | 0.15851411 | -0.4869506 | -1.211124 | 4 | F8, F10, C2 |\n| HALLMARK_XENOBIOTIC_METABOLISM | 0.2028689 | 0.2933333 | 0.13802224 | -0.9101796 | -1.210558 | 1 |         F10 |\n\n",
            "text/latex": "A data.table: 4 × 8\n\\begin{tabular}{llllllll}\n pathway & pval & padj & log2err & ES & NES & size & leadingEdge\\\\\n <chr> & <dbl> & <dbl> & <dbl> & <dbl> & <dbl> & <int> & <list>\\\\\n\\hline\n\t HALLMARK\\_ALLOGRAFT\\_REJECTION   & 0.3975410 & 0.3975410 & 0.09314546 & -0.8081743 & -1.074889 & 1 &          C2\\\\\n\t HALLMARK\\_COAGULATION           & 0.2028571 & 0.2933333 & 0.16565670 & -0.4945758 & -1.230089 & 4 & F8, F10, C2\\\\\n\t HALLMARK\\_COMPLEMENT            & 0.2200000 & 0.2933333 & 0.15851411 & -0.4869506 & -1.211124 & 4 & F8, F10, C2\\\\\n\t HALLMARK\\_XENOBIOTIC\\_METABOLISM & 0.2028689 & 0.2933333 & 0.13802224 & -0.9101796 & -1.210558 & 1 &         F10\\\\\n\\end{tabular}\n",
            "text/plain": [
              "  pathway                        pval      padj      log2err    ES        \n",
              "1 HALLMARK_ALLOGRAFT_REJECTION   0.3975410 0.3975410 0.09314546 -0.8081743\n",
              "2 HALLMARK_COAGULATION           0.2028571 0.2933333 0.16565670 -0.4945758\n",
              "3 HALLMARK_COMPLEMENT            0.2200000 0.2933333 0.15851411 -0.4869506\n",
              "4 HALLMARK_XENOBIOTIC_METABOLISM 0.2028689 0.2933333 0.13802224 -0.9101796\n",
              "  NES       size leadingEdge\n",
              "1 -1.074889 1             C2\n",
              "2 -1.230089 4    F8, F10, C2\n",
              "3 -1.211124 4    F8, F10, C2\n",
              "4 -1.210558 1            F10"
            ]
          },
          "metadata": {}
        }
      ]
    },
    {
      "cell_type": "code",
      "source": [
        "# Sort results by Normalized Enrichment Score (NES)\n",
        "gsea_results <- gsea_results[order(gsea_results$NES, decreasing=TRUE),]\n",
        "\n",
        "# Convert list columns to character\n",
        "gsea_results$leadingEdge <- sapply(gsea_results$leadingEdge, toString)"
      ],
      "metadata": {
        "id": "Gf6Co11oLcT4"
      },
      "execution_count": 46,
      "outputs": []
    },
    {
      "cell_type": "code",
      "source": [
        "# Save results to a file\n",
        "write.table(gsea_results, file = \"gsea_results.txt\", sep = \"\\t\", quote = FALSE, row.names = FALSE)"
      ],
      "metadata": {
        "id": "7bap1yqQJxH4"
      },
      "execution_count": 47,
      "outputs": []
    },
    {
      "cell_type": "code",
      "source": [
        "# Visualization of GSEA results\n",
        "plot_gsea <- function(gsea_results, top_n=30, output_file=NULL) {\n",
        "  gsea_top <- gsea_results[1:top_n,]\n",
        "  gg <- ggplot(gsea_top, aes(x=reorder(pathway, NES), y=NES, fill=NES)) +\n",
        "    geom_bar(stat=\"identity\") +\n",
        "    coord_flip() +\n",
        "    labs(title=\"GSEA Results\",\n",
        "         x=\"Pathway\",\n",
        "         y=\"Normalized Enrichment Score\") +\n",
        "    theme_minimal() +\n",
        "    scale_fill_gradient2(low=\"blue\", mid=\"white\", high=\"red\", midpoint=0)\n",
        "  \n",
        "  if (!is.null(output_file)) {\n",
        "    ggsave(output_file, gg, width=10, height=6)\n",
        "  } else {\n",
        "    print(gg)\n",
        "  }\n",
        "}\n",
        "\n",
        "plot_gsea(gsea_results, top_n=30, output_file = \"sd.png\")"
      ],
      "metadata": {
        "colab": {
          "base_uri": "https://localhost:8080/"
        },
        "id": "-uh4MjOX8phL",
        "outputId": "729005e6-8273-416d-914d-588b506efdf8"
      },
      "execution_count": 50,
      "outputs": [
        {
          "output_type": "stream",
          "name": "stderr",
          "text": [
            "Warning message:\n",
            "“\u001b[1m\u001b[22mRemoved 26 rows containing missing values (`position_stack()`).”\n"
          ]
        }
      ]
    }
  ]
}