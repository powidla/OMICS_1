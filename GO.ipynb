{
  "nbformat": 4,
  "nbformat_minor": 0,
  "metadata": {
    "colab": {
      "provenance": []
    },
    "kernelspec": {
      "name": "ir",
      "display_name": "R"
    },
    "language_info": {
      "name": "R"
    }
  },
  "cells": [
    {
      "cell_type": "code",
      "execution_count": 8,
      "metadata": {
        "colab": {
          "base_uri": "https://localhost:8080/"
        },
        "id": "RVE_ATJzE7zx",
        "outputId": "6d14fb63-baa4-4eaf-d770-0c3b568231bd"
      },
      "outputs": [
        {
          "output_type": "stream",
          "name": "stderr",
          "text": [
            "Installing package into ‘/usr/local/lib/R/site-library’\n",
            "(as ‘lib’ is unspecified)\n",
            "\n"
          ]
        }
      ],
      "source": [
        "if (!requireNamespace(\"BiocManager\", quietly = TRUE))\n",
        "install.packages(\"BiocManager\")"
      ]
    },
    {
      "cell_type": "code",
      "source": [
        "BiocManager::install(\"TxDb.Hsapiens.UCSC.hg38.knownGene\")"
      ],
      "metadata": {
        "colab": {
          "base_uri": "https://localhost:8080/"
        },
        "id": "_gH1W39gF32d",
        "outputId": "5db274c2-a144-4a42-ebee-b73cc6823fa9"
      },
      "execution_count": 9,
      "outputs": [
        {
          "output_type": "stream",
          "name": "stderr",
          "text": [
            "'getOption(\"repos\")' replaces Bioconductor standard repositories, see\n",
            "'help(\"repositories\", package = \"BiocManager\")' for details.\n",
            "Replacement repositories:\n",
            "    CRAN: https://cran.rstudio.com\n",
            "\n",
            "Bioconductor version 3.17 (BiocManager 1.30.20), R 4.3.0 (2023-04-21)\n",
            "\n",
            "Installing package(s) 'BiocVersion', 'TxDb.Hsapiens.UCSC.hg38.knownGene'\n",
            "\n",
            "also installing the dependencies ‘formatR’, ‘lambda.r’, ‘futile.options’, ‘matrixStats’, ‘futile.logger’, ‘snow’, ‘BH’, ‘MatrixGenerics’, ‘S4Arrays’, ‘DelayedArray’, ‘BiocParallel’, ‘Rhtslib’, ‘SummarizedExperiment’, ‘rjson’, ‘filelock’, ‘GenomeInfoDbData’, ‘plogr’, ‘bitops’, ‘zlibbioc’, ‘XML’, ‘Rsamtools’, ‘GenomicAlignments’, ‘restfulr’, ‘BiocFileCache’, ‘png’, ‘BiocGenerics’, ‘S4Vectors’, ‘IRanges’, ‘GenomeInfoDb’, ‘GenomicRanges’, ‘RSQLite’, ‘RCurl’, ‘XVector’, ‘Biostrings’, ‘BiocIO’, ‘rtracklayer’, ‘biomaRt’, ‘Biobase’, ‘KEGGREST’, ‘GenomicFeatures’, ‘AnnotationDbi’\n",
            "\n",
            "\n",
            "Old packages: 'bit', 'bslib', 'devtools', 'digest', 'gert', 'highr', 'isoband',\n",
            "  'jsonlite', 'pkgload', 'roxygen2', 'tidyverse', 'whisker', 'boot', 'foreign'\n",
            "\n"
          ]
        }
      ]
    },
    {
      "cell_type": "code",
      "source": [
        "library(TxDb.Hsapiens.UCSC.hg38.knownGene)"
      ],
      "metadata": {
        "colab": {
          "base_uri": "https://localhost:8080/"
        },
        "id": "mtm0fnV7JrYj",
        "outputId": "dd339abd-49a0-4394-a5eb-683802b2d04d"
      },
      "execution_count": 15,
      "outputs": [
        {
          "output_type": "stream",
          "name": "stderr",
          "text": [
            "\n",
            "\n",
            "Because of space limitations, TFEA.ChIPs internal database only includes ChIP-seq experiments from cell types in ENCODE's tiers 1, 2, and 2.5. \n",
            "To download the full ReMap2022 database, as well as other ready-to-use databases, visit https://github.com/LauraPS1/TFEA.ChIP_downloads\n",
            "\n"
          ]
        }
      ]
    },
    {
      "cell_type": "code",
      "source": [
        "#metadata preparation\n",
        "file1 <- list(\n",
        "  Name = \"SOX21.chr16.macs2_peaks.narrowPeak\",\n",
        "  Accession = \"GSM1198993\",\n",
        "  Cell = \"ReN_VM\",\n",
        "  Cell_Type = \"cancer\",\n",
        "  Treatment = \"nontargetingsiRNA\",\n",
        "  Antibody = \"Santa_Cruz_SOX2\",\n",
        "  TF = \"SOX21\"\n",
        ")\n",
        "file2 <- list(\n",
        "  Name = \"SOX22.chr16.macs2_peaks.narrowPeak\",\n",
        "  Accession = \"GSM1198994\",\n",
        "  Cell = \"ReN_VM\",\n",
        "  Cell_Type = \"cancer\",\n",
        "  Treatment = \"nontargetingsiRNA\",\n",
        "  Antibody = \"Santa_Cruz_SOX2\",\n",
        "  TF = \"SOX22\"\n",
        ")\n",
        "metadata <- data.frame(\n",
        "  Name = c(file1$Name, file2$Name),\n",
        "  Accession = c(file1$Accession, file2$Accession),\n",
        "  Cell = c(file1$Cell, file2$Cell),\n",
        "  Cell.Type = c(file1$Cell_Type, file2$Cell_Type),\n",
        "  Treatment = c(file1$Treatment, file2$Treatment),\n",
        "  Antibody = c(file1$Antibody, file2$Antibody),\n",
        "  TF = c(file1$TF, file2$TF)\n",
        ")\n",
        "columnNames <- c(\"Name\", \"Accession\", \"Cell\", \"Cell.Type\",\n",
        "                 \"Treatment\", \"Antibody\", \"TF\")\n",
        "metadata <- metadata[columnNames]\n",
        "\n",
        "\n",
        "    \n",
        "\n",
        "\n",
        "  # specify folder path containing peak data\n",
        "  folder <- \"peak_data\"\n",
        "  \n",
        "  # specify metadata file path\n",
        "  metadata <- as.data.frame(metadata)\n",
        "  \n",
        "  \n",
        "  # create array with the names of the ChIP-Seq files\n",
        "  file.list <- list.files(folder, pattern=\".narrowPeak\", full.names=TRUE)\n",
        "  \n",
        "  # set format to \"bed\"\n",
        "  format <- \"narrowPeak\"\n",
        "  \n",
        "  # convert all files to GenomicRanges objects\n",
        "  gr.list <- lapply(\n",
        "    file.list,\n",
        "    function(file, metadata, format) {\n",
        "      # read in peak data\n",
        "      peaks <- read.table(file, header = FALSE, stringsAsFactors = FALSE, sep = \"\\t\")\n",
        "      # set metadata for this file\n",
        "      metadata <- metadata[metadata$Name == basename(file), ]\n",
        "      # convert peaks to GRanges object\n",
        "      peaks.gr <- txt2GR(peaks, format, metadata)\n",
        "      return(peaks.gr)\n",
        "    },\n",
        "    metadata = metadata,\n",
        "    format = format\n",
        "  )\n",
        " \n",
        "\n",
        "  txdb <- TxDb.Hsapiens.UCSC.hg38.knownGene\n",
        "  Genes <- genes( txdb )\n",
        "\n",
        "  TF.gene.binding.db <- makeChIPGeneDB( Genes, gr.list ) \n",
        "  str( TF.gene.binding.db )\n",
        "  \n",
        "  set_user_data(metadata, TF.gene.binding.db )"
      ],
      "metadata": {
        "id": "pNlYjyMaLDGd"
      },
      "execution_count": null,
      "outputs": []
    }
  ]
}